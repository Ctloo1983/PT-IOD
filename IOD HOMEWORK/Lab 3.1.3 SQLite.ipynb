{
 "cells": [
  {
   "cell_type": "markdown",
   "metadata": {
    "colab_type": "text",
    "id": "O4slJmP6lJPO"
   },
   "source": [
    "<div>\n",
    "<img src=https://www.institutedata.com/wp-content/uploads/2019/10/iod_h_tp_primary_c.svg width=\"300\">\n",
    "</div>"
   ]
  },
  {
   "cell_type": "markdown",
   "metadata": {
    "colab_type": "text",
    "id": "YgGme6aRlJPT"
   },
   "source": [
    "# Lab 3.1.3: \n",
    "# *Database Programming with Python and SQLite*"
   ]
  },
  {
   "cell_type": "markdown",
   "metadata": {
    "colab_type": "text",
    "id": "qv6NIGfOlJPW"
   },
   "source": [
    "<a name=\"demo\"></a>\n",
    "## Using SQLite\n",
    "\n",
    "### Advantages of SQLite\n",
    "\n",
    "- does not run on a separate server\n",
    "- creates portable SQL databases saved in a single file\n",
    "- databases are stored in a very efficient manner and allow fast querying\n",
    "- ideal for small databases or databases that need to be copied across machines.\n",
    "- prototyping applications (e.g. as an embedded database server in a Python program).\n",
    "\n"
   ]
  },
  {
   "cell_type": "markdown",
   "metadata": {
    "colab_type": "text",
    "id": "IHIaKfRelJPc"
   },
   "source": [
    "### The `sqlite3` Command Line Utility\n",
    "\n",
    "- useful for basic SQL tasks and databse maintenance\n",
    "- for creating and dropping databases, it may be safer to use the command line than to roll the code into a Python program"
   ]
  },
  {
   "cell_type": "markdown",
   "metadata": {
    "colab_type": "text",
    "id": "adOx7ovjlJPf"
   },
   "source": [
    "1. Add the sqlite3 installation folder to your PATH environment variable.\n",
    "2. Open a command window.\n",
    "3. Navigate to your preferred working directory.\n",
    "4. Start the sqlite3 command line utility and create a database called \"ex1\":\n",
    "\n",
    "`$ sqlite3 ex1`\n",
    "\n",
    "Output:  \n",
    "\n",
    "`SQLite version 3.8.5 2014-05-29 12:36:14\n",
    "Enter \".help\" for usage hints.\n",
    "sqlite>`\n",
    "\n",
    "*Nb. If you leave out the database name (after `sqlite3`, above) a new, temporary database will be created; it will be destroyed upon exiting sqlite3.*  \n"
   ]
  },
  {
   "cell_type": "markdown",
   "metadata": {
    "colab_type": "text",
    "id": "nuPeNybYlJPj"
   },
   "source": [
    "Enter the following commands at the sqlite prompt (not shown):\n",
    "\n",
    "`create table tbl1(one varchar(10), two smallint);\n",
    "insert into tbl1 values('hello!',10);\n",
    "insert into tbl1 values('goodbye', 20);\n",
    "select * from tbl1;`\n",
    "\n",
    "Output:  \n",
    "\n",
    "`hello!|10\n",
    "goodbye|20`"
   ]
  },
  {
   "cell_type": "markdown",
   "metadata": {
    "colab_type": "text",
    "id": "G7c-GNh_lJPl"
   },
   "source": [
    "Enter `.help` at the sqlite3 command prompt. This lists the available \"dot commands\". \n",
    "\n",
    "Some of the more useful dot commands include:\n",
    "\n",
    "`  \n",
    ".backup ?DB? FILE      Backup DB (default \"main\") to FILE.\n",
    ".cd DIRECTORY          Change the working directory to DIRECTORY\n",
    ".clone NEWDB           Clone data into NEWDB from the existing database\n",
    ".databases             List names and files of attached databases\n",
    ".dump ?TABLE? ...      Dump the database in an SQL text format.\n",
    ".excel                 Display the output of next command in a spreadsheet\n",
    ".exit                  Exit this program\n",
    ".headers on|off        Turn display of headers on or off\n",
    ".help                  Show this message\n",
    ".import FILE TABLE     Import data from FILE into TABLE\n",
    ".indexes ?TABLE?       Show names of all indexes.\n",
    ".quit                  Exit this program\n",
    ".read FILENAME         Execute SQL in FILENAME\n",
    ".restore ?DB? FILE     Restore content of DB (default \"main\") from FILE\n",
    ".save FILE             Write in-memory database into FILE\n",
    ".tables ?TABLE?        List names of tables.`\n"
   ]
  },
  {
   "cell_type": "markdown",
   "metadata": {
    "colab_type": "text",
    "id": "UGuSmoHMlJPn"
   },
   "source": [
    "### The `sqlite3` package\n",
    "\n",
    "The easiest way to incorporate an SQL database into a Python application is by using the `sqlite3` package for [`Python 2.7`](https://docs.python.org/2.7/library/sqlite3.html) or [`Python 3.x`](https://docs.python.org/3/library/sqlite3.html).\n",
    "\n",
    "Open a connection to an SQLite database file.  As before, if the file does not already exist it will automatically be created."
   ]
  },
  {
   "cell_type": "code",
   "execution_count": 1,
   "metadata": {
    "ExecuteTime": {
     "end_time": "2019-03-27T06:53:00.052382Z",
     "start_time": "2019-03-27T06:53:00.045402Z"
    },
    "colab": {},
    "colab_type": "code",
    "id": "kDA5eAPilJPo"
   },
   "outputs": [],
   "source": [
    "import sqlite3\n",
    "sqlite_db = 'test_db.sqlite'\n",
    "conn = sqlite3.connect(sqlite_db) \n",
    "c = conn.cursor()"
   ]
  },
  {
   "cell_type": "code",
   "execution_count": 2,
   "metadata": {
    "colab": {
     "base_uri": "https://localhost:8080/",
     "height": 34
    },
    "colab_type": "code",
    "executionInfo": {
     "elapsed": 1911,
     "status": "ok",
     "timestamp": 1576572652467,
     "user": {
      "displayName": "Earnest Thomas",
      "photoUrl": "https://lh3.googleusercontent.com/a-/AAuE7mD2wqnXirmW_ua5WYhX7InjGXerCDJUI4hcmxRr=s64",
      "userId": "01963288443540378839"
     },
     "user_tz": -660
    },
    "id": "bsjifXioDXg6",
    "outputId": "802d2e3c-ac64-4640-82ea-7663bff83e33"
   },
   "outputs": [],
   "source": [
    "pwd"
   ]
  },
  {
   "cell_type": "markdown",
   "metadata": {
    "colab_type": "text",
    "id": "SbbON3DXlJPt"
   },
   "source": [
    "Commands can be executed by passing them as string arguments to the `execute` method of the cursor we just created for this database."
   ]
  },
  {
   "cell_type": "markdown",
   "metadata": {
    "colab_type": "text",
    "id": "9YezTIZxlJPu"
   },
   "source": [
    "*Nb. If this script has never been run before, the following will raise an (inconsequential) error message:*"
   ]
  },
  {
   "cell_type": "code",
   "execution_count": 3,
   "metadata": {
    "ExecuteTime": {
     "end_time": "2019-03-27T06:53:21.834157Z",
     "start_time": "2019-03-27T06:53:21.821220Z"
    },
    "colab": {},
    "colab_type": "code",
    "id": "vf0t6T2mlJPw",
    "outputId": "745ac390-5454-47ab-baf7-ee8b56a1afac"
   },
   "outputs": [],
   "source": [
    "c.execute('DROP TABLE houses;')\n",
    "\n",
    "# Save (commit) the changes:\n",
    "conn.commit()"
   ]
  },
  {
   "cell_type": "code",
   "execution_count": null,
   "metadata": {
    "ExecuteTime": {
     "end_time": "2019-03-27T06:53:39.619395Z",
     "start_time": "2019-03-27T06:53:39.591468Z"
    },
    "colab": {},
    "colab_type": "code",
    "id": "jSfkJrVWlJPz"
   },
   "outputs": [],
   "source": [
    "c.execute('CREATE TABLE houses (field1 INTEGER PRIMARY KEY, sqft INTEGER, bdrms INTEGER, age INTEGER, price INTEGER);')\n",
    "conn.commit()"
   ]
  },
  {
   "cell_type": "markdown",
   "metadata": {
    "colab_type": "text",
    "id": "_BWciGvRlJP3"
   },
   "source": [
    "With the database saved the table should now be viewable using SQLite Manager.\n",
    "\n",
    "#### Adding data\n",
    "\n",
    "Since we're back in python, we can now use regular programming techniques in conjunction with the sqlite connection.  In particular, the cursor's `execute()` method supports value substitutionusing the `?` character, which makes adding multiple records a bit easier.  See the [docs](https://docs.python.org/2.7/library/sqlite3.html) for more details."
   ]
  },
  {
   "cell_type": "code",
   "execution_count": null,
   "metadata": {
    "ExecuteTime": {
     "end_time": "2019-03-27T06:53:39.642303Z",
     "start_time": "2019-03-27T06:53:39.622352Z"
    },
    "colab": {},
    "colab_type": "code",
    "id": "EFU0wSP1lJP4"
   },
   "outputs": [],
   "source": [
    "last_sale = (None, 4000, 5, 22, 619000)\n",
    "c.execute('INSERT INTO houses VALUES (?,?,?,?,?)',last_sale)\n",
    "\n",
    "# Remember to commit the changes\n",
    "conn.commit()"
   ]
  },
  {
   "cell_type": "markdown",
   "metadata": {
    "colab_type": "text",
    "id": "t7h9HnjDlJP7"
   },
   "source": [
    "Notice that in this syntax we use the python `None` value, rather than `NULL`, to trigger SQLite to auto-increment the Primary Key. \n",
    "\n",
    "There is a related cursor method `executemany()` which takes an array of tuples and loops through them, substituting one tuple at a time."
   ]
  },
  {
   "cell_type": "code",
   "execution_count": null,
   "metadata": {
    "ExecuteTime": {
     "end_time": "2019-03-27T06:53:39.663277Z",
     "start_time": "2019-03-27T06:53:39.645292Z"
    },
    "colab": {},
    "colab_type": "code",
    "id": "MA2Xia7IlJP8"
   },
   "outputs": [],
   "source": [
    "recent_sales = [\n",
    "  (None, 2390, 4, 34, 319000),\n",
    "  (None, 1870, 3, 14, 289000),\n",
    "  (None, 1505, 3, 90, 269000),\n",
    "]\n",
    "\n",
    "# Nb. The \"?\" parameters are placeholders for data that will map to the table columns during insertion;\n",
    "#     this is a security measure against SQL injection attacks:\n",
    "c.executemany('INSERT INTO houses VALUES (?, ?, ?, ?, ?)', recent_sales)\n",
    "\n",
    "conn.commit()"
   ]
  },
  {
   "cell_type": "code",
   "execution_count": null,
   "metadata": {
    "ExecuteTime": {
     "end_time": "2019-03-27T06:53:39.683192Z",
     "start_time": "2019-03-27T06:53:39.666238Z"
    },
    "colab": {
     "base_uri": "https://localhost:8080/",
     "height": 85
    },
    "colab_type": "code",
    "executionInfo": {
     "elapsed": 774,
     "status": "ok",
     "timestamp": 1584162901728,
     "user": {
      "displayName": "Harshad Madhamshettiwar",
      "photoUrl": "https://lh3.googleusercontent.com/a-/AOh14GiRLWI_E5jNASttqY4xzUrhgwKVGJ09Ysu_yAeFQuCyzT1X3dMr1j4aDxqMhKRV-O9UqZNK08ucQ604MGgyZTf6s62aZ5Pne1j8SSbJQf5iwXuZz52p9e2MY4GEggksB54PlIJnDopCsCA4Y4FPgYLPVmmO_IVU52Y3QuqPexQir4-gMHVtF88uYeaajbsN81aezNGMj85dufwgeP6jXkQyApm8NFYzskzn_jjL2ePfHN2_rfw8cfziXUPpGEwkQKBAMHfcsGyIlQ5ilUHdY4hx5YsW9nz13S9IgKwkf1LeghiANMQkf4ePiMy_6vHipSnCvnMkQNs4DQ3aDclr2PvbgQsHxhxnaqicErtVlVkqTy7PCkEYroffKrsSfy2ceSoDT_B72LrfX_gxhQLfcP0fvThFAx5RcTDfcl6FgrFhaLbynMR1Zc9_f15wPtSVtiWijTk7jNqRn27_GU68Tt5xUSWB3lPlvqOmZN5Yo5Norr7I9Alq_Mwb8zWCrlp9BmPX5YD8lyeobSeOW0763mX29GI51guE2sF1saVgY718uTtPKGpu83hAL2Kiw45KbrWAciFmDy2T3Y9jAaazVpdTL1OGWUDwPiqcEkO7a6-WE7A0AoFzTo4pdHT4RyAOr4UwkYGyMSSseXbn9kD7maGQZZPN-mkPdkkN-QzcInyTj4Mx7WAVjPvjM4UfO5JT4JRJFBVxwDNHC-Ys2e6ifaDD2WCvXvSBjBx-FwuF5UQ1MMlEP8djfz8cbrL-U7Q=s64",
      "userId": "05265657085961716991"
     },
     "user_tz": -660
    },
    "id": "aQPGUlLZlJP-",
    "outputId": "ad9d0026-a5bc-4e3f-970d-7be8849ccbe2"
   },
   "outputs": [],
   "source": [
    "c.execute('select * from houses').fetchall()"
   ]
  },
  {
   "cell_type": "markdown",
   "metadata": {
    "colab_type": "text",
    "id": "Rua_QrCClJQF"
   },
   "source": [
    "\n",
    "\n",
    "\n",
    "#### Adding data from a csv file\n",
    "One way to populate the database from a file is to use `numpy.genfromtxt` to read the file into an array (converted to a list for easier handling), and then `INSERT` those records into the database.  The `genfromtxt` function has options including the output data type, handling of missing values, skipping of header and footer rows, columns to read, and more. "
   ]
  },
  {
   "cell_type": "code",
   "execution_count": null,
   "metadata": {
    "ExecuteTime": {
     "end_time": "2019-03-27T06:55:53.664560Z",
     "start_time": "2019-03-27T06:55:53.657578Z"
    },
    "colab": {},
    "colab_type": "code",
    "id": "DbzyW9LclJQG"
   },
   "outputs": [],
   "source": [
    "from numpy import genfromtxt\n",
    "\n",
    "# import into nparray of ints, then convert to list of lists:\n",
    "data = genfromtxt('dat/housing-data.csv', dtype = 'i8', \n",
    "                    delimiter = ',', skip_header = 1).tolist()"
   ]
  },
  {
   "cell_type": "markdown",
   "metadata": {
    "colab_type": "text",
    "id": "rsYzLBGglJQI"
   },
   "source": [
    "Suppose we need to put a placeholder in the first column for data that will be available later. Best practice is to insert the value `None`:"
   ]
  },
  {
   "cell_type": "code",
   "execution_count": null,
   "metadata": {
    "ExecuteTime": {
     "end_time": "2019-03-27T06:55:53.683509Z",
     "start_time": "2019-03-27T06:55:53.667551Z"
    },
    "colab": {},
    "colab_type": "code",
    "id": "IpIp0WZhlJQI"
   },
   "outputs": [],
   "source": [
    "# prepend a None value to beginning of each sub-list:\n",
    "for d in data:\n",
    "    d.insert(0, None)"
   ]
  },
  {
   "cell_type": "markdown",
   "metadata": {
    "colab_type": "text",
    "id": "FwHtbxRTlJQL"
   },
   "source": [
    "*Nb. This is why we converted the input array to a list. An array can only hold one type of data (integers in this case) so we could not have inserted `None` before we did this conversion.*"
   ]
  },
  {
   "cell_type": "code",
   "execution_count": null,
   "metadata": {
    "ExecuteTime": {
     "end_time": "2019-03-27T06:55:53.696473Z",
     "start_time": "2019-03-27T06:55:53.686500Z"
    },
    "colab": {},
    "colab_type": "code",
    "id": "dpjV2gEIlJQL",
    "outputId": "553d1507-35e9-4682-fd2f-141d26513a2c"
   },
   "outputs": [],
   "source": [
    "# check:\n",
    "print(type(data))\n",
    "print(data[0:3])"
   ]
  },
  {
   "cell_type": "markdown",
   "metadata": {
    "colab_type": "text",
    "id": "2YuxctislJQP"
   },
   "source": [
    "Now we can insert each list item as a row of fields in the database."
   ]
  },
  {
   "cell_type": "code",
   "execution_count": null,
   "metadata": {
    "ExecuteTime": {
     "end_time": "2019-03-27T06:55:53.714426Z",
     "start_time": "2019-03-27T06:55:53.699465Z"
    },
    "colab": {},
    "colab_type": "code",
    "id": "1X78UleXlJQP"
   },
   "outputs": [],
   "source": [
    "# loop through data, running an INSERT on each record (i.e. sublist):\n",
    "for d in data:\n",
    "    c.execute('INSERT INTO houses VALUES (?, ?, ?, ?, ?)', d)\n",
    "\n",
    "conn.commit()"
   ]
  },
  {
   "cell_type": "markdown",
   "metadata": {
    "colab_type": "text",
    "id": "fOU5sJDmlJQS"
   },
   "source": [
    "In this case, because we were inserting the same value for all records, so we could have simply used a 'None' in the numpy `insert` method at column 0."
   ]
  },
  {
   "cell_type": "code",
   "execution_count": null,
   "metadata": {
    "ExecuteTime": {
     "end_time": "2019-03-27T06:55:53.732378Z",
     "start_time": "2019-03-27T06:55:53.717417Z"
    },
    "colab": {},
    "colab_type": "code",
    "id": "sDig16BalJQS"
   },
   "outputs": [],
   "source": [
    "import numpy as np\n",
    "d1 = np.asarray([1200, 3, 15, 250000])\n",
    "d1 = d1.tolist()\n",
    "d1.insert(0, None)\n",
    "d1\n",
    "c.execute('INSERT INTO houses VALUES (?, ?, ?, ?, ?)', d1)\n",
    "conn.commit()"
   ]
  },
  {
   "cell_type": "markdown",
   "metadata": {
    "colab_type": "text",
    "id": "FVZ3jVc3lJQT"
   },
   "source": [
    "#### Deleting Rows"
   ]
  },
  {
   "cell_type": "markdown",
   "metadata": {
    "colab_type": "text",
    "id": "fwGFqJKplJQU"
   },
   "source": [
    "The `DELETE FROM` statement can be used with a `WHERE` clause to specify rows to delete based on some criteria."
   ]
  },
  {
   "cell_type": "code",
   "execution_count": null,
   "metadata": {
    "ExecuteTime": {
     "end_time": "2019-03-27T06:55:53.747338Z",
     "start_time": "2019-03-27T06:55:53.734373Z"
    },
    "colab": {},
    "colab_type": "code",
    "id": "G-t-_J1alJQU"
   },
   "outputs": [],
   "source": [
    "c.execute('DELETE FROM houses WHERE field1 IN (52, 53)')\n",
    "conn.commit()"
   ]
  },
  {
   "cell_type": "markdown",
   "metadata": {
    "colab_type": "text",
    "id": "dBd4Rh8DlJQW"
   },
   "source": [
    "QUIZ: What would `DELETE FROM houses` do?"
   ]
  },
  {
   "cell_type": "markdown",
   "metadata": {
    "colab_type": "text",
    "id": "omubeB6qlJQW"
   },
   "source": [
    "#### Filtering Rows"
   ]
  },
  {
   "cell_type": "code",
   "execution_count": null,
   "metadata": {
    "ExecuteTime": {
     "end_time": "2019-03-27T06:55:53.760309Z",
     "start_time": "2019-03-27T06:55:53.750330Z"
    },
    "colab": {},
    "colab_type": "code",
    "id": "tET_cYfWlJQX",
    "outputId": "45be6cf4-c3f5-4e72-ffc1-e7a22bf10ecb"
   },
   "outputs": [],
   "source": [
    "# similar syntax as before\n",
    "results = c.execute(\"SELECT * FROM houses WHERE bdrms = 4\")\n",
    "\n",
    "# here results is a cursor object - use fetchall() to extract a list\n",
    "results.fetchall()"
   ]
  },
  {
   "cell_type": "markdown",
   "metadata": {
    "colab_type": "text",
    "id": "qh348UF_lJQb"
   },
   "source": [
    "Run a query to show the effect of the DELETE command that was executed above (HINT: You can use the WHERE clause to reduce the size of the rowset to the region of interest):"
   ]
  },
  {
   "cell_type": "code",
   "execution_count": null,
   "metadata": {
    "ExecuteTime": {
     "end_time": "2019-03-27T06:55:53.774266Z",
     "start_time": "2019-03-27T06:55:53.764294Z"
    },
    "colab": {},
    "colab_type": "code",
    "id": "kHXR6EJklJQc",
    "outputId": "5a4d893a-8b11-48f5-e4e4-6ad3e2420e04"
   },
   "outputs": [],
   "source": [
    "# ANSWER\n",
    "results = c.execute(\"SELECT * FROM houses WHERE field1 >= 50 AND field1 < 59\")\n",
    "results.fetchall()"
   ]
  },
  {
   "cell_type": "markdown",
   "metadata": {
    "colab_type": "text",
    "id": "sTNiWQB2lJQg"
   },
   "source": [
    "Run a query to calculate the average floor area and price of each size of house (i.e. by number of bedrooms):"
   ]
  },
  {
   "cell_type": "code",
   "execution_count": null,
   "metadata": {
    "ExecuteTime": {
     "end_time": "2019-03-27T06:55:53.786233Z",
     "start_time": "2019-03-27T06:55:53.779254Z"
    },
    "colab": {},
    "colab_type": "code",
    "id": "nkFpYIbVlJQg",
    "outputId": "a56eebd4-9f0b-483d-9e30-4305de3e25b6"
   },
   "outputs": [],
   "source": [
    "#ANSWER\n",
    "results = c.execute(\"SELECT bdrms, AVG(sqft) AS avg_sqft, AVG(price) AS avg_price FROM houses GROUP BY bdrms\")\n",
    "results.fetchall()"
   ]
  },
  {
   "cell_type": "markdown",
   "metadata": {
    "colab_type": "text",
    "id": "7K9VDroqlJQi"
   },
   "source": [
    "### Pandas connector\n",
    "\n",
    "While databases provide many analytical capabilities, at some point we may need to pull data into Python for more flexible processing. Large, fixed operations would be more efficient in a database, but Pandas allows for interactive processing.\n",
    "\n",
    "For example, if you want to aggregate nightly log-ins or sales for a report or dashboard, this would be a fixed operation on a large dataset. These computations would run more efficiently in the database system itself.\n",
    "\n",
    "However, if we wanted to model the patterns of login behaviour or factors driving sales, then we would import the data to Python where we could use its simple interfaces to powerful analytic libraries."
   ]
  },
  {
   "cell_type": "code",
   "execution_count": null,
   "metadata": {
    "ExecuteTime": {
     "end_time": "2019-03-27T06:55:54.665159Z",
     "start_time": "2019-03-27T06:55:53.789245Z"
    },
    "colab": {},
    "colab_type": "code",
    "id": "tvI0P-r8lJQj"
   },
   "outputs": [],
   "source": [
    "import pandas as pd\n",
    "from pandas.io import sql"
   ]
  },
  {
   "cell_type": "markdown",
   "metadata": {
    "colab_type": "text",
    "id": "gBz6pxPFlJQk"
   },
   "source": [
    "Pandas can connect to most relational databases. In this demonstration, we will create and connect to a SQLite database."
   ]
  },
  {
   "cell_type": "markdown",
   "metadata": {
    "colab_type": "text",
    "id": "3dZYouA_lJQk"
   },
   "source": [
    "### Writing data into a database\n",
    "\n",
    "Data in Pandas can be loaded into a relational database. \n",
    "\n",
    "If the data table is not too large, we can load all of it into a Pandas DataFrame:"
   ]
  },
  {
   "cell_type": "code",
   "execution_count": null,
   "metadata": {
    "ExecuteTime": {
     "end_time": "2019-03-27T06:55:54.707970Z",
     "start_time": "2019-03-27T06:55:54.666099Z"
    },
    "colab": {},
    "colab_type": "code",
    "id": "GfjtD2iylJQl",
    "outputId": "efe6eddd-8fae-4ad3-d8b9-c34c3444a015"
   },
   "outputs": [],
   "source": [
    "# Nb. Use low_memory=False to ensure that type inference does not fail due to buffered processing of input:\n",
    "data = pd.read_csv('dat/housing-data.csv', low_memory = False)\n",
    "data.head()"
   ]
  },
  {
   "cell_type": "markdown",
   "metadata": {
    "colab_type": "text",
    "id": "3fD3CvPRlJQo"
   },
   "source": [
    "We can move data in the opposite direction -- from a DataFrame to a database -- using the `to_sql` command, similar to the `to_csv` command.\n",
    "\n",
    "`to_sql` takes as arguments:\n",
    "    - `name`, the table name to create\n",
    "    - `con`, a connection to a database\n",
    "    - `index`, whether to input the index column\n",
    "    - `schema`, if we want to write a custom schema for the new table\n",
    "    - `if_exists`, what to do if the table already exists. We can overwrite it, add to it, or fail"
   ]
  },
  {
   "cell_type": "markdown",
   "metadata": {
    "colab_type": "text",
    "id": "Q2W5ZbrHlJQo"
   },
   "source": [
    "This copies our `data` DataFrame to a sqlite3 table called `houses_pandas`:"
   ]
  },
  {
   "cell_type": "code",
   "execution_count": null,
   "metadata": {
    "ExecuteTime": {
     "end_time": "2019-03-27T06:55:55.170861Z",
     "start_time": "2019-03-27T06:55:54.710962Z"
    },
    "colab": {},
    "colab_type": "code",
    "id": "BoyMHydFlJQp"
   },
   "outputs": [],
   "source": [
    "data.to_sql('houses_pandas', con = conn, if_exists = 'replace', index = False)"
   ]
  },
  {
   "cell_type": "markdown",
   "metadata": {
    "colab_type": "text",
    "id": "WqPJA5l_lJQr"
   },
   "source": [
    "Run a query to get the average price of each house size from this table:"
   ]
  },
  {
   "cell_type": "code",
   "execution_count": null,
   "metadata": {
    "ExecuteTime": {
     "end_time": "2019-03-27T06:55:55.179833Z",
     "start_time": "2019-03-27T06:55:55.172843Z"
    },
    "colab": {},
    "colab_type": "code",
    "id": "w5Uf5INrlJQr",
    "outputId": "e9adb2a3-07d6-4603-dfe5-4406020f11d4"
   },
   "outputs": [],
   "source": [
    "#ANSWER\n",
    "c.execute('SELECT bdrms, AVG(price) FROM houses_pandas GROUP BY bdrms').fetchall()"
   ]
  },
  {
   "cell_type": "markdown",
   "metadata": {
    "colab_type": "text",
    "id": "CJtvJ5EylJQu"
   },
   "source": [
    "## Discussion\n",
    "\n",
    "**Scenarios for using Pandas with SQLite**\n",
    "\n",
    "1. When would you want to use Pandas on a dataset before storing it in a database?\n",
    "\n",
    "2. When would you want to use Pandas on a dataset retrieved from a database?"
   ]
  },
  {
   "cell_type": "markdown",
   "metadata": {
    "colab_type": "text",
    "id": "YZ7J3ZyUlJQu"
   },
   "source": [
    "<a name=\"guided-practice\"></a>\n",
    "\n",
    "\n",
    "# Reference: SQL Syntax \n",
    "\n",
    "\n",
    "#### SELECT Statement\n",
    "Every query should start with `SELECT`.  `SELECT` is followed by the names of the columns in the output.\n",
    "\n",
    "`SELECT` is always paired with `FROM`, and `FROM` identifies the table to retrieve data from.\n",
    "\n",
    "```sql\n",
    "SELECT\n",
    "<columns>\n",
    "FROM\n",
    "<table>\n",
    "```\n",
    "\n",
    "`SELECT *` denotes returns *all* of the columns.\n",
    "\n",
    "Housing Data example:\n",
    "```sql\n",
    "SELECT\n",
    "sqft, bdrms\n",
    "FROM houses_pandas;\n",
    "```\n",
    "\n",
    "**Check:** Write a query that returns the `sqft`, `bdrms` and `price`.\n",
    "\n",
    "```sql\n",
    "SELECT\n",
    "sqft, bdrms, price\n",
    "FROM houses_pandas;\n",
    "```\n",
    "\n",
    "#### WHERE Clause\n",
    "`WHERE` is used to filter table to a specific criteria and follows the `FROM` clause.\n",
    "\n",
    "```sql\n",
    "SELECT\n",
    "<columns>\n",
    "FROM\n",
    "<table>\n",
    "WHERE\n",
    "<condition>\n",
    "```\n",
    "Example:\n",
    "```sql\n",
    "SELECT\n",
    "sqft, bdrms, age, price\n",
    "FROM houses_pandas\n",
    "WHERE bdrms = 2 and price < 250000;\n",
    "```\n",
    "\n",
    "The condition is effectively a row filter; rows that match the condition will be included in the rowset that is returned by the query.\n",
    "\n",
    "**Check:** Write a query that returns the `sqft`, `bdrms`, `age` for houses older than 60 years.\n",
    ">```sql\n",
    "SELECT\n",
    "sqft, bdrms, age\n",
    "FROM houses_pandas\n",
    "WHERE age > 60;\n",
    "```"
   ]
  },
  {
   "cell_type": "markdown",
   "metadata": {
    "colab_type": "text",
    "id": "u5hFKdhQlJQu"
   },
   "source": [
    "### AGGREGATIONS\n",
    "\n",
    "Aggregations (or aggregate functions) are functions where the values of multiple rows are grouped together as input on certain criteria to form a single value of more significant meaning or measurement such as a set, a bag or a list.\n",
    "\n",
    "Examples of aggregate funtions:\n",
    "\n",
    "- Average (i.e., arithmetic mean)\n",
    "- Count\n",
    "- Maximum\n",
    "- Minimum\n",
    "- Median\n",
    "- Mode\n",
    "- Sum\n",
    "\n",
    "In SQL they are performed in a `SELECT` statement as follows.\n",
    "\n",
    "```sql\n",
    "SELECT COUNT(price)\n",
    "FROM houses_pandas;\n",
    "```\n",
    "\n",
    "```sql\n",
    "SELECT AVG(sqft), MIN(price), MAX(price)\n",
    "FROM houses_pandas\n",
    "WHERE bdrms = 2;\n",
    "```"
   ]
  },
  {
   "cell_type": "markdown",
   "metadata": {
    "colab_type": "text",
    "id": "QTKX4Cx_U6x_"
   },
   "source": [
    "### Read Order Data\n",
    "- P12-ListOfOrders\n",
    "- P12-OrderBreakdown"
   ]
  },
  {
   "cell_type": "markdown",
   "metadata": {
    "colab_type": "text",
    "id": "G_WJpyVEU6x_"
   },
   "source": [
    "#### 1. Read CSV into DataFrame"
   ]
  },
  {
   "cell_type": "code",
   "execution_count": 2,
   "metadata": {
    "ExecuteTime": {
     "end_time": "2019-03-27T06:55:55.188776Z",
     "start_time": "2019-03-27T06:55:55.183820Z"
    },
    "colab": {},
    "colab_type": "code",
    "id": "eeL49LkpU6yA"
   },
   "outputs": [],
   "source": [
    "import pandas as pd\n",
    "import sqlite3\n",
    "from pandas.io import sql"
   ]
  },
  {
   "cell_type": "code",
   "execution_count": 3,
   "metadata": {
    "ExecuteTime": {
     "end_time": "2019-03-27T06:55:55.237652Z",
     "start_time": "2019-03-27T06:55:55.191768Z"
    },
    "colab": {},
    "colab_type": "code",
    "id": "8GFG4hHzU6yD"
   },
   "outputs": [],
   "source": [
    "# Reading CSV to Dataframe\n",
    "orders = pd.read_csv('/Users/christophertloo/Downloads/PTSQL/P12-ListOfOrders.csv', encoding = 'utf-8')\n",
    "orders_break_down =  pd.read_csv('/Users/christophertloo/Downloads/PTSQL/P12-OrderBreakdown.csv', encoding = 'utf-8')"
   ]
  },
  {
   "cell_type": "code",
   "execution_count": 4,
   "metadata": {
    "ExecuteTime": {
     "end_time": "2019-03-27T06:55:55.263578Z",
     "start_time": "2019-03-27T06:55:55.240638Z"
    },
    "colab": {},
    "colab_type": "code",
    "id": "zxiInuDbU6yF",
    "outputId": "e4b2c7ed-5865-4ce3-e9ad-9926fec36d32"
   },
   "outputs": [
    {
     "data": {
      "text/html": [
       "<div>\n",
       "<style scoped>\n",
       "    .dataframe tbody tr th:only-of-type {\n",
       "        vertical-align: middle;\n",
       "    }\n",
       "\n",
       "    .dataframe tbody tr th {\n",
       "        vertical-align: top;\n",
       "    }\n",
       "\n",
       "    .dataframe thead th {\n",
       "        text-align: right;\n",
       "    }\n",
       "</style>\n",
       "<table border=\"1\" class=\"dataframe\">\n",
       "  <thead>\n",
       "    <tr style=\"text-align: right;\">\n",
       "      <th></th>\n",
       "      <th>Order ID</th>\n",
       "      <th>Order Date</th>\n",
       "      <th>Customer Name</th>\n",
       "      <th>Country</th>\n",
       "    </tr>\n",
       "  </thead>\n",
       "  <tbody>\n",
       "    <tr>\n",
       "      <th>0</th>\n",
       "      <td>IT-2011-3647632</td>\n",
       "      <td>2011-01-01</td>\n",
       "      <td>Eugene Moren</td>\n",
       "      <td>Sweden</td>\n",
       "    </tr>\n",
       "    <tr>\n",
       "      <th>1</th>\n",
       "      <td>ES-2011-4869686</td>\n",
       "      <td>2011-01-03</td>\n",
       "      <td>Dorothy Dickinson</td>\n",
       "      <td>United Kingdom</td>\n",
       "    </tr>\n",
       "    <tr>\n",
       "      <th>2</th>\n",
       "      <td>ES-2011-4939443</td>\n",
       "      <td>2011-01-04</td>\n",
       "      <td>Arthur Prichep</td>\n",
       "      <td>France</td>\n",
       "    </tr>\n",
       "    <tr>\n",
       "      <th>3</th>\n",
       "      <td>IT-2011-2942451</td>\n",
       "      <td>2011-01-04</td>\n",
       "      <td>Grant Thornton</td>\n",
       "      <td>United Kingdom</td>\n",
       "    </tr>\n",
       "    <tr>\n",
       "      <th>4</th>\n",
       "      <td>ES-2011-3848439</td>\n",
       "      <td>2011-01-05</td>\n",
       "      <td>Michael Granlund</td>\n",
       "      <td>France</td>\n",
       "    </tr>\n",
       "  </tbody>\n",
       "</table>\n",
       "</div>"
      ],
      "text/plain": [
       "          Order ID  Order Date      Customer Name         Country\n",
       "0  IT-2011-3647632  2011-01-01       Eugene Moren          Sweden\n",
       "1  ES-2011-4869686  2011-01-03  Dorothy Dickinson  United Kingdom\n",
       "2  ES-2011-4939443  2011-01-04     Arthur Prichep          France\n",
       "3  IT-2011-2942451  2011-01-04     Grant Thornton  United Kingdom\n",
       "4  ES-2011-3848439  2011-01-05   Michael Granlund          France"
      ]
     },
     "execution_count": 4,
     "metadata": {},
     "output_type": "execute_result"
    }
   ],
   "source": [
    "orders.head()"
   ]
  },
  {
   "cell_type": "code",
   "execution_count": 5,
   "metadata": {
    "ExecuteTime": {
     "end_time": "2019-03-27T06:55:55.295492Z",
     "start_time": "2019-03-27T06:55:55.271556Z"
    },
    "colab": {},
    "colab_type": "code",
    "id": "m3KYLTB3U6yH",
    "outputId": "a37b077a-cdb1-4580-969a-a5faf98f6827"
   },
   "outputs": [
    {
     "data": {
      "text/html": [
       "<div>\n",
       "<style scoped>\n",
       "    .dataframe tbody tr th:only-of-type {\n",
       "        vertical-align: middle;\n",
       "    }\n",
       "\n",
       "    .dataframe tbody tr th {\n",
       "        vertical-align: top;\n",
       "    }\n",
       "\n",
       "    .dataframe thead th {\n",
       "        text-align: right;\n",
       "    }\n",
       "</style>\n",
       "<table border=\"1\" class=\"dataframe\">\n",
       "  <thead>\n",
       "    <tr style=\"text-align: right;\">\n",
       "      <th></th>\n",
       "      <th>Order ID</th>\n",
       "      <th>Product Name</th>\n",
       "      <th>Discount</th>\n",
       "      <th>Sales</th>\n",
       "      <th>Quantity</th>\n",
       "      <th>Category</th>\n",
       "    </tr>\n",
       "  </thead>\n",
       "  <tbody>\n",
       "    <tr>\n",
       "      <th>0</th>\n",
       "      <td>IT-2011-3647632</td>\n",
       "      <td>Enermax Note Cards, Premium</td>\n",
       "      <td>0.5</td>\n",
       "      <td>45.0</td>\n",
       "      <td>3</td>\n",
       "      <td>Office Supplies</td>\n",
       "    </tr>\n",
       "    <tr>\n",
       "      <th>1</th>\n",
       "      <td>ES-2011-4869686</td>\n",
       "      <td>Dania Corner Shelving, Traditional</td>\n",
       "      <td>0.0</td>\n",
       "      <td>854.0</td>\n",
       "      <td>7</td>\n",
       "      <td>Furniture</td>\n",
       "    </tr>\n",
       "    <tr>\n",
       "      <th>2</th>\n",
       "      <td>ES-2011-4939443</td>\n",
       "      <td>Binney &amp; Smith Sketch Pad, Easy-Erase</td>\n",
       "      <td>0.0</td>\n",
       "      <td>140.0</td>\n",
       "      <td>3</td>\n",
       "      <td>Office Supplies</td>\n",
       "    </tr>\n",
       "    <tr>\n",
       "      <th>3</th>\n",
       "      <td>IT-2011-2942451</td>\n",
       "      <td>Boston Markers, Easy-Erase</td>\n",
       "      <td>0.5</td>\n",
       "      <td>27.0</td>\n",
       "      <td>2</td>\n",
       "      <td>Office Supplies</td>\n",
       "    </tr>\n",
       "    <tr>\n",
       "      <th>4</th>\n",
       "      <td>IT-2011-2942451</td>\n",
       "      <td>Eldon Folders, Single Width</td>\n",
       "      <td>0.5</td>\n",
       "      <td>17.0</td>\n",
       "      <td>2</td>\n",
       "      <td>Office Supplies</td>\n",
       "    </tr>\n",
       "  </tbody>\n",
       "</table>\n",
       "</div>"
      ],
      "text/plain": [
       "          Order ID                           Product Name  Discount  Sales  \\\n",
       "0  IT-2011-3647632            Enermax Note Cards, Premium       0.5   45.0   \n",
       "1  ES-2011-4869686     Dania Corner Shelving, Traditional       0.0  854.0   \n",
       "2  ES-2011-4939443  Binney & Smith Sketch Pad, Easy-Erase       0.0  140.0   \n",
       "3  IT-2011-2942451             Boston Markers, Easy-Erase       0.5   27.0   \n",
       "4  IT-2011-2942451            Eldon Folders, Single Width       0.5   17.0   \n",
       "\n",
       "   Quantity         Category  \n",
       "0         3  Office Supplies  \n",
       "1         7        Furniture  \n",
       "2         3  Office Supplies  \n",
       "3         2  Office Supplies  \n",
       "4         2  Office Supplies  "
      ]
     },
     "execution_count": 5,
     "metadata": {},
     "output_type": "execute_result"
    }
   ],
   "source": [
    "orders_break_down.head()"
   ]
  },
  {
   "cell_type": "markdown",
   "metadata": {
    "colab_type": "text",
    "id": "M1-VeGSSU6yI"
   },
   "source": [
    "#### 2. Replace Space with Underscore in Column Names"
   ]
  },
  {
   "cell_type": "code",
   "execution_count": 6,
   "metadata": {
    "ExecuteTime": {
     "end_time": "2019-03-27T06:55:55.305464Z",
     "start_time": "2019-03-27T06:55:55.298483Z"
    },
    "colab": {},
    "colab_type": "code",
    "id": "Qvy2389TU6yJ"
   },
   "outputs": [],
   "source": [
    "orders.columns = [o.replace(' ', '_') for o in orders.columns.str.lower()]"
   ]
  },
  {
   "cell_type": "code",
   "execution_count": 7,
   "metadata": {
    "ExecuteTime": {
     "end_time": "2019-03-27T06:55:55.318434Z",
     "start_time": "2019-03-27T06:55:55.310451Z"
    },
    "colab": {},
    "colab_type": "code",
    "id": "5iFkLdjIU6yK"
   },
   "outputs": [],
   "source": [
    "orders_break_down.columns = [o.replace(' ', '_') for o in orders_break_down.columns.str.lower()]"
   ]
  },
  {
   "cell_type": "code",
   "execution_count": 8,
   "metadata": {},
   "outputs": [
    {
     "data": {
      "text/html": [
       "<div>\n",
       "<style scoped>\n",
       "    .dataframe tbody tr th:only-of-type {\n",
       "        vertical-align: middle;\n",
       "    }\n",
       "\n",
       "    .dataframe tbody tr th {\n",
       "        vertical-align: top;\n",
       "    }\n",
       "\n",
       "    .dataframe thead th {\n",
       "        text-align: right;\n",
       "    }\n",
       "</style>\n",
       "<table border=\"1\" class=\"dataframe\">\n",
       "  <thead>\n",
       "    <tr style=\"text-align: right;\">\n",
       "      <th></th>\n",
       "      <th>order_id</th>\n",
       "      <th>order_date</th>\n",
       "      <th>customer_name</th>\n",
       "      <th>country</th>\n",
       "    </tr>\n",
       "  </thead>\n",
       "  <tbody>\n",
       "    <tr>\n",
       "      <th>0</th>\n",
       "      <td>IT-2011-3647632</td>\n",
       "      <td>2011-01-01</td>\n",
       "      <td>Eugene Moren</td>\n",
       "      <td>Sweden</td>\n",
       "    </tr>\n",
       "    <tr>\n",
       "      <th>1</th>\n",
       "      <td>ES-2011-4869686</td>\n",
       "      <td>2011-01-03</td>\n",
       "      <td>Dorothy Dickinson</td>\n",
       "      <td>United Kingdom</td>\n",
       "    </tr>\n",
       "    <tr>\n",
       "      <th>2</th>\n",
       "      <td>ES-2011-4939443</td>\n",
       "      <td>2011-01-04</td>\n",
       "      <td>Arthur Prichep</td>\n",
       "      <td>France</td>\n",
       "    </tr>\n",
       "    <tr>\n",
       "      <th>3</th>\n",
       "      <td>IT-2011-2942451</td>\n",
       "      <td>2011-01-04</td>\n",
       "      <td>Grant Thornton</td>\n",
       "      <td>United Kingdom</td>\n",
       "    </tr>\n",
       "    <tr>\n",
       "      <th>4</th>\n",
       "      <td>ES-2011-3848439</td>\n",
       "      <td>2011-01-05</td>\n",
       "      <td>Michael Granlund</td>\n",
       "      <td>France</td>\n",
       "    </tr>\n",
       "  </tbody>\n",
       "</table>\n",
       "</div>"
      ],
      "text/plain": [
       "          order_id  order_date      customer_name         country\n",
       "0  IT-2011-3647632  2011-01-01       Eugene Moren          Sweden\n",
       "1  ES-2011-4869686  2011-01-03  Dorothy Dickinson  United Kingdom\n",
       "2  ES-2011-4939443  2011-01-04     Arthur Prichep          France\n",
       "3  IT-2011-2942451  2011-01-04     Grant Thornton  United Kingdom\n",
       "4  ES-2011-3848439  2011-01-05   Michael Granlund          France"
      ]
     },
     "execution_count": 8,
     "metadata": {},
     "output_type": "execute_result"
    }
   ],
   "source": [
    "orders.head()"
   ]
  },
  {
   "cell_type": "code",
   "execution_count": 9,
   "metadata": {},
   "outputs": [
    {
     "data": {
      "text/html": [
       "<div>\n",
       "<style scoped>\n",
       "    .dataframe tbody tr th:only-of-type {\n",
       "        vertical-align: middle;\n",
       "    }\n",
       "\n",
       "    .dataframe tbody tr th {\n",
       "        vertical-align: top;\n",
       "    }\n",
       "\n",
       "    .dataframe thead th {\n",
       "        text-align: right;\n",
       "    }\n",
       "</style>\n",
       "<table border=\"1\" class=\"dataframe\">\n",
       "  <thead>\n",
       "    <tr style=\"text-align: right;\">\n",
       "      <th></th>\n",
       "      <th>order_id</th>\n",
       "      <th>product_name</th>\n",
       "      <th>discount</th>\n",
       "      <th>sales</th>\n",
       "      <th>quantity</th>\n",
       "      <th>category</th>\n",
       "    </tr>\n",
       "  </thead>\n",
       "  <tbody>\n",
       "    <tr>\n",
       "      <th>0</th>\n",
       "      <td>IT-2011-3647632</td>\n",
       "      <td>Enermax Note Cards, Premium</td>\n",
       "      <td>0.5</td>\n",
       "      <td>45.0</td>\n",
       "      <td>3</td>\n",
       "      <td>Office Supplies</td>\n",
       "    </tr>\n",
       "    <tr>\n",
       "      <th>1</th>\n",
       "      <td>ES-2011-4869686</td>\n",
       "      <td>Dania Corner Shelving, Traditional</td>\n",
       "      <td>0.0</td>\n",
       "      <td>854.0</td>\n",
       "      <td>7</td>\n",
       "      <td>Furniture</td>\n",
       "    </tr>\n",
       "    <tr>\n",
       "      <th>2</th>\n",
       "      <td>ES-2011-4939443</td>\n",
       "      <td>Binney &amp; Smith Sketch Pad, Easy-Erase</td>\n",
       "      <td>0.0</td>\n",
       "      <td>140.0</td>\n",
       "      <td>3</td>\n",
       "      <td>Office Supplies</td>\n",
       "    </tr>\n",
       "    <tr>\n",
       "      <th>3</th>\n",
       "      <td>IT-2011-2942451</td>\n",
       "      <td>Boston Markers, Easy-Erase</td>\n",
       "      <td>0.5</td>\n",
       "      <td>27.0</td>\n",
       "      <td>2</td>\n",
       "      <td>Office Supplies</td>\n",
       "    </tr>\n",
       "    <tr>\n",
       "      <th>4</th>\n",
       "      <td>IT-2011-2942451</td>\n",
       "      <td>Eldon Folders, Single Width</td>\n",
       "      <td>0.5</td>\n",
       "      <td>17.0</td>\n",
       "      <td>2</td>\n",
       "      <td>Office Supplies</td>\n",
       "    </tr>\n",
       "  </tbody>\n",
       "</table>\n",
       "</div>"
      ],
      "text/plain": [
       "          order_id                           product_name  discount  sales  \\\n",
       "0  IT-2011-3647632            Enermax Note Cards, Premium       0.5   45.0   \n",
       "1  ES-2011-4869686     Dania Corner Shelving, Traditional       0.0  854.0   \n",
       "2  ES-2011-4939443  Binney & Smith Sketch Pad, Easy-Erase       0.0  140.0   \n",
       "3  IT-2011-2942451             Boston Markers, Easy-Erase       0.5   27.0   \n",
       "4  IT-2011-2942451            Eldon Folders, Single Width       0.5   17.0   \n",
       "\n",
       "   quantity         category  \n",
       "0         3  Office Supplies  \n",
       "1         7        Furniture  \n",
       "2         3  Office Supplies  \n",
       "3         2  Office Supplies  \n",
       "4         2  Office Supplies  "
      ]
     },
     "execution_count": 9,
     "metadata": {},
     "output_type": "execute_result"
    }
   ],
   "source": [
    "orders_break_down.head()"
   ]
  },
  {
   "cell_type": "markdown",
   "metadata": {
    "colab_type": "text",
    "id": "BLaDRh8yU6yN"
   },
   "source": [
    "#### 3. Check DataTypes "
   ]
  },
  {
   "cell_type": "code",
   "execution_count": 10,
   "metadata": {
    "ExecuteTime": {
     "end_time": "2019-03-27T06:55:55.331395Z",
     "start_time": "2019-03-27T06:55:55.323418Z"
    },
    "colab": {},
    "colab_type": "code",
    "id": "V5-RiRyIU6yN",
    "outputId": "a179cc11-442c-4afd-f618-44123e6f784d"
   },
   "outputs": [
    {
     "data": {
      "text/plain": [
       "order_id         object\n",
       "order_date       object\n",
       "customer_name    object\n",
       "country          object\n",
       "dtype: object"
      ]
     },
     "execution_count": 10,
     "metadata": {},
     "output_type": "execute_result"
    }
   ],
   "source": [
    "orders.dtypes"
   ]
  },
  {
   "cell_type": "code",
   "execution_count": 11,
   "metadata": {
    "ExecuteTime": {
     "end_time": "2019-03-27T06:55:55.341370Z",
     "start_time": "2019-03-27T06:55:55.333403Z"
    },
    "colab": {},
    "colab_type": "code",
    "id": "nCSSBD_IU6yQ",
    "outputId": "9485d47c-477d-4cb5-8ff3-da3854be83bf"
   },
   "outputs": [
    {
     "data": {
      "text/plain": [
       "order_id         object\n",
       "product_name     object\n",
       "discount        float64\n",
       "sales           float64\n",
       "quantity          int64\n",
       "category         object\n",
       "dtype: object"
      ]
     },
     "execution_count": 11,
     "metadata": {},
     "output_type": "execute_result"
    }
   ],
   "source": [
    "orders_break_down.dtypes"
   ]
  },
  {
   "cell_type": "markdown",
   "metadata": {
    "colab_type": "text",
    "id": "6JK-0UxGU6yS"
   },
   "source": [
    "#### 4. Save these two dataframes as a table in sqlite"
   ]
  },
  {
   "cell_type": "code",
   "execution_count": 15,
   "metadata": {},
   "outputs": [],
   "source": [
    "# Create the Database(DB)\n",
    "import sqlite3\n",
    "sqlite_db = 'eshop.db.sqlite'\n",
    "conn = sqlite3.connect(sqlite_db) \n",
    "c = conn.cursor()"
   ]
  },
  {
   "cell_type": "code",
   "execution_count": 18,
   "metadata": {
    "ExecuteTime": {
     "end_time": "2019-03-27T06:56:19.450693Z",
     "start_time": "2019-03-27T06:56:19.347970Z"
    },
    "colab": {},
    "colab_type": "code",
    "id": "3OB_6tSRU6yS"
   },
   "outputs": [],
   "source": [
    "import sqlite3\n",
    "# Establishing Local DB connection\n",
    "db_connection = sqlite3.connect('eshop.db.sqlite')\n",
    "\n",
    "## Reading out DataFrames as SQL Table\n",
    "orders.to_sql(name = 'orders', con = db_connection, if_exists = 'replace', index = False)\n",
    "orders_break_down.to_sql(name = 'orders_break_down', con = db_connection, if_exists = 'replace', index = False)"
   ]
  },
  {
   "cell_type": "markdown",
   "metadata": {
    "colab_type": "text",
    "id": "WG1Ih1qEU6yU"
   },
   "source": [
    "#### 5. Select Number of Orders for Each Customer"
   ]
  },
  {
   "cell_type": "code",
   "execution_count": 19,
   "metadata": {
    "ExecuteTime": {
     "end_time": "2019-03-27T06:56:25.294508Z",
     "start_time": "2019-03-27T06:56:25.250656Z"
    },
    "colab": {},
    "colab_type": "code",
    "id": "dgL53Sz1U6yU",
    "outputId": "de09de3e-9b8a-48e0-8794-e1e48627ac93"
   },
   "outputs": [
    {
     "data": {
      "text/html": [
       "<div>\n",
       "<style scoped>\n",
       "    .dataframe tbody tr th:only-of-type {\n",
       "        vertical-align: middle;\n",
       "    }\n",
       "\n",
       "    .dataframe tbody tr th {\n",
       "        vertical-align: top;\n",
       "    }\n",
       "\n",
       "    .dataframe thead th {\n",
       "        text-align: right;\n",
       "    }\n",
       "</style>\n",
       "<table border=\"1\" class=\"dataframe\">\n",
       "  <thead>\n",
       "    <tr style=\"text-align: right;\">\n",
       "      <th></th>\n",
       "      <th>customer_name</th>\n",
       "      <th>Count</th>\n",
       "    </tr>\n",
       "  </thead>\n",
       "  <tbody>\n",
       "    <tr>\n",
       "      <th>0</th>\n",
       "      <td>John Grady</td>\n",
       "      <td>13</td>\n",
       "    </tr>\n",
       "    <tr>\n",
       "      <th>1</th>\n",
       "      <td>Joel Jenkins</td>\n",
       "      <td>12</td>\n",
       "    </tr>\n",
       "    <tr>\n",
       "      <th>2</th>\n",
       "      <td>Aaron Smayling</td>\n",
       "      <td>12</td>\n",
       "    </tr>\n",
       "    <tr>\n",
       "      <th>3</th>\n",
       "      <td>Yoseph Carroll</td>\n",
       "      <td>11</td>\n",
       "    </tr>\n",
       "    <tr>\n",
       "      <th>4</th>\n",
       "      <td>Sarah Brown</td>\n",
       "      <td>11</td>\n",
       "    </tr>\n",
       "  </tbody>\n",
       "</table>\n",
       "</div>"
      ],
      "text/plain": [
       "    customer_name  Count\n",
       "0      John Grady     13\n",
       "1    Joel Jenkins     12\n",
       "2  Aaron Smayling     12\n",
       "3  Yoseph Carroll     11\n",
       "4     Sarah Brown     11"
      ]
     },
     "execution_count": 19,
     "metadata": {},
     "output_type": "execute_result"
    }
   ],
   "source": [
    "# Select Number of Orders for Each Customer\n",
    "\n",
    "sql_string = '''\n",
    "    SELECT \n",
    "        customer_name, \n",
    "        COUNT(DISTINCT orders.order_id) AS Count \n",
    "    FROM orders \n",
    "    JOIN orders_break_down ON orders_break_down.order_id = orders.order_id\n",
    "    GROUP BY customer_name ORDER BY Count DESC\n",
    "'''\n",
    "\n",
    "customers = sql.read_sql(sql_string, con = db_connection)\n",
    "\n",
    "customers.head()"
   ]
  },
  {
   "cell_type": "code",
   "execution_count": 20,
   "metadata": {},
   "outputs": [
    {
     "data": {
      "text/html": [
       "<div>\n",
       "<style scoped>\n",
       "    .dataframe tbody tr th:only-of-type {\n",
       "        vertical-align: middle;\n",
       "    }\n",
       "\n",
       "    .dataframe tbody tr th {\n",
       "        vertical-align: top;\n",
       "    }\n",
       "\n",
       "    .dataframe thead th {\n",
       "        text-align: right;\n",
       "    }\n",
       "</style>\n",
       "<table border=\"1\" class=\"dataframe\">\n",
       "  <thead>\n",
       "    <tr style=\"text-align: right;\">\n",
       "      <th></th>\n",
       "      <th>customer_name</th>\n",
       "      <th>Count</th>\n",
       "    </tr>\n",
       "  </thead>\n",
       "  <tbody>\n",
       "    <tr>\n",
       "      <th>0</th>\n",
       "      <td>John Grady</td>\n",
       "      <td>13</td>\n",
       "    </tr>\n",
       "    <tr>\n",
       "      <th>1</th>\n",
       "      <td>Joel Jenkins</td>\n",
       "      <td>12</td>\n",
       "    </tr>\n",
       "    <tr>\n",
       "      <th>2</th>\n",
       "      <td>Aaron Smayling</td>\n",
       "      <td>12</td>\n",
       "    </tr>\n",
       "    <tr>\n",
       "      <th>3</th>\n",
       "      <td>Yoseph Carroll</td>\n",
       "      <td>11</td>\n",
       "    </tr>\n",
       "    <tr>\n",
       "      <th>4</th>\n",
       "      <td>Sarah Brown</td>\n",
       "      <td>11</td>\n",
       "    </tr>\n",
       "  </tbody>\n",
       "</table>\n",
       "</div>"
      ],
      "text/plain": [
       "    customer_name  Count\n",
       "0      John Grady     13\n",
       "1    Joel Jenkins     12\n",
       "2  Aaron Smayling     12\n",
       "3  Yoseph Carroll     11\n",
       "4     Sarah Brown     11"
      ]
     },
     "execution_count": 20,
     "metadata": {},
     "output_type": "execute_result"
    }
   ],
   "source": [
    "# Select Number of Orders for Each Customer\n",
    "\n",
    "sql_string = '''\n",
    "    SELECT \n",
    "        customer_name, \n",
    "        COUNT(DISTINCT order_id) AS Count \n",
    "    FROM orders \n",
    "    GROUP BY customer_name ORDER BY Count DESC\n",
    "'''\n",
    "\n",
    "customers = sql.read_sql(sql_string, con = db_connection)\n",
    "\n",
    "customers.head()"
   ]
  },
  {
   "cell_type": "markdown",
   "metadata": {
    "colab_type": "text",
    "id": "0hJkNFpOU6yW"
   },
   "source": [
    "#### 6. Select Number of Customers for Each Country"
   ]
  },
  {
   "cell_type": "code",
   "execution_count": null,
   "metadata": {
    "ExecuteTime": {
     "end_time": "2019-03-27T06:56:25.320437Z",
     "start_time": "2019-03-27T06:56:25.297501Z"
    },
    "colab": {},
    "colab_type": "code",
    "id": "jIw4XIrgU6yW",
    "outputId": "518ea8f4-5a18-4d50-92c7-17882f7a74a3"
   },
   "outputs": [],
   "source": [
    "# Select Number of Customers for Each Country\n",
    "\n",
    "sql_string = '''\n",
    "    SELECT \n",
    "        country, \n",
    "        COUNT(DISTINCT customer_name) AS Count \n",
    "    FROM orders \n",
    "    GROUP BY country \n",
    "    ORDER BY Count DESC\n",
    "'''\n",
    "\n",
    "customers = sql.read_sql(sql_string, con = db_connection)\n",
    "customers.head()"
   ]
  },
  {
   "cell_type": "markdown",
   "metadata": {
    "colab_type": "text",
    "id": "1kxJe3cMU6yZ"
   },
   "source": [
    "#### 7.A Select discount, sales, quantity for Each Order from orders_break_down Table"
   ]
  },
  {
   "cell_type": "code",
   "execution_count": null,
   "metadata": {
    "ExecuteTime": {
     "end_time": "2019-03-27T06:56:25.356344Z",
     "start_time": "2019-03-27T06:56:25.323429Z"
    },
    "colab": {},
    "colab_type": "code",
    "id": "bjhTNXplU6yZ",
    "outputId": "2c815788-a455-4591-881e-cdf29a3b218b"
   },
   "outputs": [],
   "source": [
    "# Select discount, sales, quantity for Each Order from orders_break_down Table\n",
    "\n",
    "sql_string = '''\n",
    "    SELECT \n",
    "        discount\n",
    "        , sales\n",
    "        , quantity \n",
    "    FROM orders_break_down\n",
    "'''\n",
    "\n",
    "customers = sql.read_sql(sql_string, con = db_connection)\n",
    "customers.head()"
   ]
  },
  {
   "cell_type": "markdown",
   "metadata": {
    "colab_type": "text",
    "id": "hrVGcyYKU6yb"
   },
   "source": [
    "#### 7.B Select discount, sales, quantity, total price for Each Order from orders_break_down Table\n",
    "\n",
    "> Total Price = sales * quantity - discount"
   ]
  },
  {
   "cell_type": "code",
   "execution_count": null,
   "metadata": {
    "ExecuteTime": {
     "end_time": "2019-03-27T06:56:25.395251Z",
     "start_time": "2019-03-27T06:56:25.359335Z"
    },
    "colab": {},
    "colab_type": "code",
    "id": "CMzeJ-48U6yc",
    "outputId": "343fca07-ef74-490f-93f8-855187dc7df7"
   },
   "outputs": [],
   "source": [
    "# Select discount, sales, quantity, total price for Each Order from orders_break_down Table\n",
    "\n",
    "sql_string = '''\n",
    "    SELECT \n",
    "        discount\n",
    "        , sales\n",
    "        , quantity\n",
    "        , (sales * quantity - discount) AS total_price \n",
    "    FROM orders_break_down\n",
    "    ORDER BY total_price DESC\n",
    "'''\n",
    "\n",
    "customers = sql.read_sql(sql_string, con = db_connection)\n",
    "customers.head()"
   ]
  },
  {
   "cell_type": "markdown",
   "metadata": {
    "ExecuteTime": {
     "end_time": "2019-03-21T03:42:08.012935Z",
     "start_time": "2019-03-21T03:42:08.008947Z"
    },
    "colab_type": "text",
    "id": "e53hf6c0U6yd"
   },
   "source": [
    "#### 7.C Select All Orders from orders_break_down Table Where Total Price Greater Than 100"
   ]
  },
  {
   "cell_type": "code",
   "execution_count": null,
   "metadata": {
    "ExecuteTime": {
     "end_time": "2019-03-27T06:56:25.467045Z",
     "start_time": "2019-03-27T06:56:25.398231Z"
    },
    "colab": {},
    "colab_type": "code",
    "id": "0D_o9l61U6ye",
    "outputId": "56d6097d-71b1-4670-c2c6-72be05883d31"
   },
   "outputs": [],
   "source": [
    "# Select All Orders from orders_break_down Table Where Total Price Greater Than 100\n",
    "\n",
    "sql_string = '''\n",
    "    SELECT \n",
    "        *\n",
    "        , (sales * quantity - discount) AS total_price\n",
    "    FROM orders_break_down \n",
    "    WHERE sales * quantity - discount > 100\n",
    "    ORDER BY total_price ASC\n",
    "\n",
    "'''\n",
    "\n",
    "customers = sql.read_sql(sql_string, con = db_connection)\n",
    "customers.head()"
   ]
  },
  {
   "cell_type": "markdown",
   "metadata": {
    "colab_type": "text",
    "id": "awqrDhP3U6yf"
   },
   "source": [
    "#### 8. Select All Customer And The Product They Have Bought"
   ]
  },
  {
   "cell_type": "code",
   "execution_count": null,
   "metadata": {
    "ExecuteTime": {
     "end_time": "2019-03-27T06:56:25.514917Z",
     "start_time": "2019-03-27T06:56:25.469050Z"
    },
    "colab": {},
    "colab_type": "code",
    "id": "LZBWmU5_U6yg",
    "outputId": "ef530752-a289-4877-d433-c2c614a8f5e6"
   },
   "outputs": [],
   "source": [
    "# Select All Customer And The Product They Have Bought\n",
    "\n",
    "sql_string = '''\n",
    "    SELECT \n",
    "        orders.order_id\n",
    "        , orders.customer_name\n",
    "        , orders_break_down.product_name\n",
    "    FROM orders\n",
    "    JOIN orders_break_down ON orders.order_id = orders_break_down.order_id\n",
    "''' \n",
    "customers = sql.read_sql(sql_string, con = db_connection)\n",
    "customers.head()"
   ]
  },
  {
   "cell_type": "markdown",
   "metadata": {
    "ExecuteTime": {
     "end_time": "2019-03-21T03:50:32.122897Z",
     "start_time": "2019-03-21T03:50:32.116914Z"
    },
    "colab_type": "text",
    "id": "JWvJY8zuU6yh"
   },
   "source": [
    "#### 9.A Select Number of 'Furniture' Orders For Each Country "
   ]
  },
  {
   "cell_type": "code",
   "execution_count": null,
   "metadata": {
    "ExecuteTime": {
     "end_time": "2019-03-27T06:56:25.542843Z",
     "start_time": "2019-03-27T06:56:25.516913Z"
    },
    "colab": {},
    "colab_type": "code",
    "id": "hwn_I5RAU6yi",
    "outputId": "b86109f8-62eb-4068-8fa7-4aca03adb60b"
   },
   "outputs": [],
   "source": [
    "# Select Number of 'Furniture' Orders For Each Country\n",
    "\n",
    "sql_string = '''\n",
    "    SELECT \n",
    "        orders.country\n",
    "        , COUNT(orders_break_down.category) AS Count           \n",
    "    FROM orders\n",
    "    JOIN orders_break_down\n",
    "    ON orders.order_id = orders_break_down.order_id\n",
    "    WHERE orders_break_down.category = 'Furniture'\n",
    "    GROUP BY orders.country\n",
    "'''\n",
    "\n",
    "order_list = sql.read_sql(sql_string, con = db_connection)\n",
    "\n",
    "order_list.head()"
   ]
  },
  {
   "cell_type": "markdown",
   "metadata": {
    "colab_type": "text",
    "id": "fySO7PIOU6yk"
   },
   "source": [
    "#### 9.B Select Number of 'Furniture' Orders For The Country Denmark"
   ]
  },
  {
   "cell_type": "code",
   "execution_count": null,
   "metadata": {
    "ExecuteTime": {
     "end_time": "2019-03-27T06:56:25.578747Z",
     "start_time": "2019-03-27T06:56:25.545835Z"
    },
    "colab": {},
    "colab_type": "code",
    "id": "x386RAu4U6yk",
    "outputId": "eaf60964-2246-4934-8d5e-5d060c327294"
   },
   "outputs": [],
   "source": [
    "# Select Number of 'Furniture' Orders For The Country Denmark\n",
    "\n",
    "sql_string = '''\n",
    "    SELECT \n",
    "        *       \n",
    "    FROM orders\n",
    "    JOIN orders_break_down\n",
    "    ON orders.order_id = orders_break_down.order_id\n",
    "    WHERE orders_break_down.category = 'Furniture'\n",
    "        AND orders.country = 'Denmark'\n",
    "'''\n",
    "\n",
    "order_list = sql.read_sql(sql_string, con = db_connection)\n",
    "\n",
    "order_list.head()"
   ]
  },
  {
   "cell_type": "markdown",
   "metadata": {
    "colab_type": "text",
    "id": "2o9yCt5iU6yn"
   },
   "source": [
    "#### 10. Select Total Sales With Discount and Without Discount for Each Country"
   ]
  },
  {
   "cell_type": "code",
   "execution_count": null,
   "metadata": {
    "ExecuteTime": {
     "end_time": "2019-03-27T06:56:25.639584Z",
     "start_time": "2019-03-27T06:56:25.583734Z"
    },
    "colab": {},
    "colab_type": "code",
    "id": "kDLFTnH9U6yo",
    "outputId": "b3bcf03e-43ab-48da-8a9a-693bb3d7577f"
   },
   "outputs": [],
   "source": [
    "# Select Total Sales With Discount and Without Discount for Each Country\n",
    "\n",
    "sql_string = '''\n",
    "    SELECT\n",
    "        orders.country\n",
    "        , SUM(CASE WHEN discount == 0 THEN sales ELSE 0 END) AS discount_sales\n",
    "        , SUM(CASE WHEN discount > 0 THEN sales ELSE 0 END) AS non_discount_sales       \n",
    "    FROM orders\n",
    "    JOIN orders_break_down ON orders.order_id = orders_break_down.order_id\n",
    "    GROUP BY orders.country\n",
    "'''\n",
    "\n",
    "order_list = sql.read_sql(sql_string, con = db_connection)\n",
    "\n",
    "order_list.head()"
   ]
  },
  {
   "cell_type": "markdown",
   "metadata": {
    "colab_type": "text",
    "id": "Ai2EYxjSU6yp"
   },
   "source": [
    "#### 11.A Select Total Quantity, Total Sales for Each Country"
   ]
  },
  {
   "cell_type": "code",
   "execution_count": null,
   "metadata": {
    "ExecuteTime": {
     "end_time": "2019-03-27T06:56:25.678488Z",
     "start_time": "2019-03-27T06:56:25.642577Z"
    },
    "colab": {},
    "colab_type": "code",
    "id": "Fx1ZitrPU6yq",
    "outputId": "6e7d6bd9-cde4-4acd-8c0b-1e6b8d08c534"
   },
   "outputs": [],
   "source": [
    "# Select Total Quantity, Total Sales for Each Country\n",
    "\n",
    "sql_string = '''\n",
    "    SELECT\n",
    "        orders.country\n",
    "        , SUM(sales) AS total_sales\n",
    "        , SUM(quantity) AS total_quantity       \n",
    "    FROM orders\n",
    "    JOIN orders_break_down ON orders.order_id = orders_break_down.order_id\n",
    "    GROUP BY orders.country\n",
    "'''\n",
    "\n",
    "order_list = sql.read_sql(sql_string, con = db_connection)\n",
    "\n",
    "order_list.head()"
   ]
  },
  {
   "cell_type": "markdown",
   "metadata": {
    "ExecuteTime": {
     "end_time": "2019-03-21T04:09:40.290543Z",
     "start_time": "2019-03-21T04:09:40.284556Z"
    },
    "colab_type": "text",
    "id": "NyEUNP3NU6yr"
   },
   "source": [
    "#### 11.B Select Top 3 Country Based on Sales"
   ]
  },
  {
   "cell_type": "code",
   "execution_count": null,
   "metadata": {
    "ExecuteTime": {
     "end_time": "2019-03-27T06:56:25.719372Z",
     "start_time": "2019-03-27T06:56:25.680475Z"
    },
    "colab": {},
    "colab_type": "code",
    "id": "NlG2b2m8U6ys",
    "outputId": "a38b8993-1c41-4aae-9b84-ac090fcb39c0"
   },
   "outputs": [],
   "source": [
    "# Select Top 3 Country Based on Sales\n",
    "\n",
    "sql_string = '''\n",
    "    SELECT\n",
    "        orders.country\n",
    "        , SUM(sales) AS total_sales\n",
    "        , SUM(quantity) AS total_quantity       \n",
    "    FROM orders\n",
    "    JOIN orders_break_down ON orders.order_id = orders_break_down.order_id\n",
    "    GROUP BY orders.country\n",
    "    ORDER BY total_sales DESC LIMIT 3\n",
    "'''\n",
    "\n",
    "order_list = sql.read_sql(sql_string, con = db_connection)\n",
    "\n",
    "order_list.head()"
   ]
  },
  {
   "cell_type": "code",
   "execution_count": null,
   "metadata": {
    "ExecuteTime": {
     "end_time": "2019-03-27T06:56:25.735329Z",
     "start_time": "2019-03-27T06:56:25.722364Z"
    },
    "colab": {},
    "colab_type": "code",
    "id": "S6XXLnaeU6yt",
    "outputId": "2d908145-bf46-4cc6-b649-0b7385148f1d"
   },
   "outputs": [],
   "source": [
    "order_list.sort_values(by='total_sales', ascending=False).head(3)"
   ]
  },
  {
   "cell_type": "markdown",
   "metadata": {
    "colab_type": "text",
    "id": "5EAT_QDrU6yw"
   },
   "source": [
    "#### 11.C Select Bottom 3 Country Based On Quantities"
   ]
  },
  {
   "cell_type": "code",
   "execution_count": null,
   "metadata": {
    "ExecuteTime": {
     "end_time": "2019-03-27T06:56:25.776220Z",
     "start_time": "2019-03-27T06:56:25.738323Z"
    },
    "colab": {},
    "colab_type": "code",
    "id": "yLvxcWOkU6yw",
    "outputId": "eab8413c-65c0-4e07-97be-42609a41f6f8"
   },
   "outputs": [],
   "source": [
    "# Select Bottom 3 Country Based On Quantities\n",
    "\n",
    "sql_string = '''\n",
    "    SELECT\n",
    "        orders.country\n",
    "        , SUM(sales) AS total_sales\n",
    "        , SUM(quantity) AS total_quantity       \n",
    "    FROM orders\n",
    "    JOIN orders_break_down ON orders.order_id = orders_break_down.order_id\n",
    "    GROUP BY orders.country\n",
    "    ORDER BY total_quantity ASC LIMIT 3\n",
    "'''\n",
    "\n",
    "order_list = sql.read_sql(sql_string, con = db_connection)\n",
    "\n",
    "order_list.head()"
   ]
  },
  {
   "cell_type": "code",
   "execution_count": null,
   "metadata": {
    "ExecuteTime": {
     "end_time": "2019-03-27T06:56:25.793174Z",
     "start_time": "2019-03-27T06:56:25.778214Z"
    },
    "colab": {},
    "colab_type": "code",
    "id": "xfpC0cFUU6yy",
    "outputId": "9c6b49a3-6ea0-46bb-d149-8258062fff5f"
   },
   "outputs": [],
   "source": [
    "order_list.sort_values(by='total_quantity', ascending=True).head(3)"
   ]
  },
  {
   "cell_type": "markdown",
   "metadata": {
    "ExecuteTime": {
     "end_time": "2019-03-21T04:15:46.751912Z",
     "start_time": "2019-03-21T04:15:46.745926Z"
    },
    "colab_type": "text",
    "id": "BjBvHxTmU6y0"
   },
   "source": [
    "#### 12. Select Average Sales By Categroy For The Country 'France'"
   ]
  },
  {
   "cell_type": "code",
   "execution_count": null,
   "metadata": {
    "ExecuteTime": {
     "end_time": "2019-03-27T06:56:25.835068Z",
     "start_time": "2019-03-27T06:56:25.796166Z"
    },
    "colab": {},
    "colab_type": "code",
    "id": "AjSpUYwvU6y0",
    "outputId": "c8d7b88d-e174-4a57-9eb0-7438afca2314"
   },
   "outputs": [],
   "source": [
    "# Select Average Sales By Categroy For The Country 'France'\n",
    "\n",
    "sql_string = '''\n",
    "    SELECT\n",
    "        orders.country\n",
    "        , orders_break_down.category\n",
    "        , AVG(sales) AS avg_sales       \n",
    "    FROM orders\n",
    "    JOIN orders_break_down ON orders.order_id = orders_break_down.order_id\n",
    "    WHERE orders.country = 'France'\n",
    "    GROUP BY orders.country, orders_break_down.category\n",
    "    ORDER BY avg_sales DESC\n",
    "'''\n",
    "\n",
    "order_list = sql.read_sql(sql_string, con = db_connection)\n",
    "\n",
    "order_list.head(100)"
   ]
  },
  {
   "cell_type": "markdown",
   "metadata": {
    "colab_type": "text",
    "id": "S8odUlkYU6y1"
   },
   "source": [
    "#### 13. Select Country, Category and Total Sales Where Average Total Sales is The Highest"
   ]
  },
  {
   "cell_type": "code",
   "execution_count": null,
   "metadata": {
    "ExecuteTime": {
     "end_time": "2019-03-27T06:56:25.890913Z",
     "start_time": "2019-03-27T06:56:25.839053Z"
    },
    "colab": {},
    "colab_type": "code",
    "id": "vOzMZ7-bU6y2",
    "outputId": "4532f288-a1d7-476b-9697-73c7c5f93807"
   },
   "outputs": [],
   "source": [
    "# Select Country, Category and Total Sales Where Average Total Sales is The Highest\n",
    "\n",
    "sql_string = '''\n",
    "    SELECT\n",
    "        orders.country\n",
    "        , orders_break_down.category\n",
    "        , AVG(sales) AS total_sales       \n",
    "    FROM orders\n",
    "    JOIN orders_break_down ON orders.order_id = orders_break_down.order_id\n",
    "    GROUP BY orders.country, orders_break_down.category\n",
    "    ORDER BY total_sales DESC LIMIT 1\n",
    "'''\n",
    "\n",
    "order_list = sql.read_sql(sql_string, con = db_connection)\n",
    "\n",
    "order_list.head()"
   ]
  },
  {
   "cell_type": "markdown",
   "metadata": {
    "colab_type": "text",
    "heading_collapsed": true,
    "id": "yNowUy0BlJQu"
   },
   "source": [
    "### JOINS\n",
    "\n",
    "Below is a link to a handy reference for SQL joins. In this chart joins are represented in terms of sets and venn diagrams. \n",
    "https://www.codeproject.com/Articles/33052/Visual-Representation-of-SQL-Joins\n",
    "\n",
    "Alternatively, remember the merge functionality of pandas.\n",
    "https://github.com/pandas-dev/pandas/blob/master/doc/cheatsheet/Pandas_Cheat_Sheet.pdf"
   ]
  },
  {
   "cell_type": "markdown",
   "metadata": {
    "colab_type": "text",
    "id": "Jp0fdXBelJQv"
   },
   "source": [
    "### ADDITIONAL RESOURCES\n",
    "\n",
    "- [sqlite3 home](http://www.sqlite.org)  \n",
    "- [sqlite3 Python documentation](https://docs.python.org/3/library/sqlite3.html)\n",
    "- [SQLite Python tutorial](http://sebastianraschka.com/Articles/2014_sqlite_in_python_tutorial.html)  \n",
    "- [SQL zoo](http://www.sqlzoo.net)  Great for learning syntax"
   ]
  },
  {
   "cell_type": "markdown",
   "metadata": {
    "colab_type": "text",
    "id": "9hdMa3Vnx6Aj"
   },
   "source": [
    ">\n",
    ">\n",
    ">\n"
   ]
  },
  {
   "cell_type": "markdown",
   "metadata": {
    "colab_type": "text",
    "id": "H6EyH-b4wGV5"
   },
   "source": [
    "\n",
    "\n",
    "---\n",
    "\n",
    "\n",
    "\n",
    "---\n",
    "\n",
    "\n",
    "\n",
    "> > > > > > > > > © 2021 Institute of Data\n",
    "\n",
    "\n",
    "---\n",
    "\n",
    "\n",
    "\n",
    "---\n",
    "\n",
    "\n",
    "\n"
   ]
  }
 ],
 "metadata": {
  "colab": {
   "collapsed_sections": [],
   "name": "IOD_Lab 2.1.3_ANSWER.ipynb",
   "provenance": []
  },
  "kernelspec": {
   "display_name": "Python 3",
   "language": "python",
   "name": "python3"
  },
  "language_info": {
   "codemirror_mode": {
    "name": "ipython",
    "version": 3
   },
   "file_extension": ".py",
   "mimetype": "text/x-python",
   "name": "python",
   "nbconvert_exporter": "python",
   "pygments_lexer": "ipython3",
   "version": "3.8.5"
  },
  "varInspector": {
   "cols": {
    "lenName": 16,
    "lenType": 16,
    "lenVar": 40
   },
   "kernels_config": {
    "python": {
     "delete_cmd_postfix": "",
     "delete_cmd_prefix": "del ",
     "library": "var_list.py",
     "varRefreshCmd": "print(var_dic_list())"
    },
    "r": {
     "delete_cmd_postfix": ") ",
     "delete_cmd_prefix": "rm(",
     "library": "var_list.r",
     "varRefreshCmd": "cat(var_dic_list()) "
    }
   },
   "types_to_exclude": [
    "module",
    "function",
    "builtin_function_or_method",
    "instance",
    "_Feature"
   ],
   "window_display": false
  }
 },
 "nbformat": 4,
 "nbformat_minor": 1
}
