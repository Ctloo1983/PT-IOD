{
 "cells": [
  {
   "cell_type": "markdown",
   "metadata": {
    "colab_type": "text",
    "id": "WOvRYnP4PSdZ"
   },
   "source": [
    "<div>\n",
    "<img src=https://www.institutedata.com/wp-content/uploads/2019/10/iod_h_tp_primary_c.svg width=\"300\">\n",
    "</div>"
   ]
  },
  {
   "cell_type": "markdown",
   "metadata": {
    "colab_type": "text",
    "id": "_nYpDpcCPSdb"
   },
   "source": [
    "# Lab 3.2.1 \n",
    "# *Querying the International Space Station*"
   ]
  },
  {
   "cell_type": "markdown",
   "metadata": {
    "colab_type": "text",
    "id": "d8JjtkBgPSdd"
   },
   "source": [
    "## The OpenNotify API"
   ]
  },
  {
   "cell_type": "markdown",
   "metadata": {
    "colab_type": "text",
    "id": "2DUZHs-HPSdg"
   },
   "source": [
    "The OpenNotify API exposes a few attributes of the International Space Station (ISS) via a simple, authentication-free interface. The simplicity of this API precludes any need for a dedicated Python library. However, as with many APIs, it accepts requests according to HTTP standards and returns responses in JSON format, so the Python libraries request and json will make managing the I/O simpler still."
   ]
  },
  {
   "cell_type": "code",
   "execution_count": 1,
   "metadata": {
    "colab": {},
    "colab_type": "code",
    "id": "vm4lY6n0PSdh"
   },
   "outputs": [],
   "source": [
    "import requests\n",
    "import json\n",
    "from datetime import datetime, date, time"
   ]
  },
  {
   "cell_type": "markdown",
   "metadata": {
    "colab_type": "text",
    "id": "H3oxIeZVPSdo"
   },
   "source": [
    "This request fetches the latest position of the international space station:"
   ]
  },
  {
   "cell_type": "code",
   "execution_count": 2,
   "metadata": {
    "colab": {},
    "colab_type": "code",
    "id": "RJkBZKaIPSdr"
   },
   "outputs": [],
   "source": [
    "response = requests.get(\"http://api.open-notify.org/iss-now.json\")"
   ]
  },
  {
   "cell_type": "code",
   "execution_count": 4,
   "metadata": {},
   "outputs": [
    {
     "data": {
      "text/plain": [
       "'{\"timestamp\": 1620976192, \"iss_position\": {\"longitude\": \"-68.3123\", \"latitude\": \"47.2457\"}, \"message\": \"success\"}'"
      ]
     },
     "execution_count": 4,
     "metadata": {},
     "output_type": "execute_result"
    }
   ],
   "source": [
    "response.text"
   ]
  },
  {
   "cell_type": "markdown",
   "metadata": {
    "colab_type": "text",
    "id": "qkDUOFzbPSdw"
   },
   "source": [
    "Print the status code of the response:"
   ]
  },
  {
   "cell_type": "code",
   "execution_count": 3,
   "metadata": {
    "colab": {
     "base_uri": "https://localhost:8080/",
     "height": 35
    },
    "colab_type": "code",
    "executionInfo": {
     "elapsed": 633,
     "status": "ok",
     "timestamp": 1585356752889,
     "user": {
      "displayName": "Rajas Khokle",
      "photoUrl": "https://lh3.googleusercontent.com/a-/AOh14GgW4zMCtnVcnIi1e7psM-PLESAV_VDsIm5yNZgnp-ZqWIB3iTeM5_s-QP5AE0CYLhckIEt0dtQu0EvGMHNBnslGWRBpntayrPb_XTFecOD1gqJhIJ_fKG_rEPddf04v2mpyx9HQ-i3wv7PRjgk26rCnyqQEptN_4XmpLXPYmozpxkH4jPKZPZiqRNNGMBoUKs04HKfSrxpgLlpcdGPmsGsGdzD7yVGD9C4QUgi7MAOBQmHskCzM_kXNTvsGdbSzWOvvdNPiq0LqF36-UEjO-vHi3RD8cwCjdlzTbb2R-ZgRfAP6mUXupxkDJRQlLA7kIel1wq1I7dexzrAyX1EuAxDNO9yK1oWWOTk77KP9QHy8M3kApWL5ERLZ0FnXsyINBCQeKnGblwrfHNqXwGWsCKtJ0oWYJjjaQ8lWMY71h2Mt9LoB1SteTMqxSpOZCqvxTETNVfykdK5MThAdDZb7FUHBr5dEVao721UoAAdRifrQxxw4BC61-hKnlUvQRJ1gMIzrLl8WSnGbpOrdqVf9lPE5u5oktBabwnL9qUWMk9BVID1bP266I7yd9ego-OeShnRr_jPUj38lIq5F4XIEJTdj4xbUzu_BgEdFiJdMGm1h0zyX_lUEbz6CdTfprw_3-HGkp542-aLwlKnUl_IGhcn4L_fQ0q2D34o7mg0Uw0qCkLxlK4relI8fgHkXByDX4ZYNkvuEcVGo-MbJUh_OyvDgYAjCXZHck5NC2SpHUsiIaO9N67vBh1_nRwO7MF0Zl4nN1A=s64",
      "userId": "02649685323202507997"
     },
     "user_tz": -660
    },
    "id": "lfioBgm_fvEX",
    "outputId": "5cdf7599-6f92-4dab-9cf1-7e0579fdbd0b"
   },
   "outputs": [
    {
     "data": {
      "text/plain": [
       "200"
      ]
     },
     "execution_count": 3,
     "metadata": {},
     "output_type": "execute_result"
    }
   ],
   "source": [
    "#ANSWER:\n",
    "response.status_code\n",
    "# response.headers['Content-Type']"
   ]
  },
  {
   "cell_type": "markdown",
   "metadata": {
    "colab_type": "text",
    "id": "1ofpmCeJPSeC"
   },
   "source": [
    "We can also request the current position of the ISS and the next few times at which it will be over a certain location. The latitude and longitude of Sydney are (-33.87, 151.21). Create a dict named `parameters` whose elements are key:value pairs named `lat` and `lon`, containing those figures:"
   ]
  },
  {
   "cell_type": "code",
   "execution_count": 5,
   "metadata": {
    "colab": {},
    "colab_type": "code",
    "id": "zShNz2P5PSeD"
   },
   "outputs": [],
   "source": [
    "#ANSWER:\n",
    "parameters = {\"lat\": -33.87, \"lon\": 151.21}"
   ]
  },
  {
   "cell_type": "markdown",
   "metadata": {
    "colab_type": "text",
    "id": "rw-DKb5NPSeF"
   },
   "source": [
    "The API request we want starts like the last one, but the last part of the endpoint is \"iss-pass.json\", and it takes a second argument -- namely, the `parameters` value created above. Compose and execute the API request:"
   ]
  },
  {
   "cell_type": "code",
   "execution_count": 6,
   "metadata": {
    "colab": {},
    "colab_type": "code",
    "id": "_7g9a6DOPSeI"
   },
   "outputs": [],
   "source": [
    "#ANSWER:\n",
    "response = requests.get(\"http://api.open-notify.org/iss-pass.json\", params = parameters)"
   ]
  },
  {
   "cell_type": "markdown",
   "metadata": {
    "colab_type": "text",
    "id": "NnWthXnRPSeK"
   },
   "source": [
    "Print the response header:"
   ]
  },
  {
   "cell_type": "code",
   "execution_count": 7,
   "metadata": {
    "colab": {
     "base_uri": "https://localhost:8080/",
     "height": 55
    },
    "colab_type": "code",
    "executionInfo": {
     "elapsed": 656,
     "status": "ok",
     "timestamp": 1585356774359,
     "user": {
      "displayName": "Rajas Khokle",
      "photoUrl": "https://lh3.googleusercontent.com/a-/AOh14GgW4zMCtnVcnIi1e7psM-PLESAV_VDsIm5yNZgnp-ZqWIB3iTeM5_s-QP5AE0CYLhckIEt0dtQu0EvGMHNBnslGWRBpntayrPb_XTFecOD1gqJhIJ_fKG_rEPddf04v2mpyx9HQ-i3wv7PRjgk26rCnyqQEptN_4XmpLXPYmozpxkH4jPKZPZiqRNNGMBoUKs04HKfSrxpgLlpcdGPmsGsGdzD7yVGD9C4QUgi7MAOBQmHskCzM_kXNTvsGdbSzWOvvdNPiq0LqF36-UEjO-vHi3RD8cwCjdlzTbb2R-ZgRfAP6mUXupxkDJRQlLA7kIel1wq1I7dexzrAyX1EuAxDNO9yK1oWWOTk77KP9QHy8M3kApWL5ERLZ0FnXsyINBCQeKnGblwrfHNqXwGWsCKtJ0oWYJjjaQ8lWMY71h2Mt9LoB1SteTMqxSpOZCqvxTETNVfykdK5MThAdDZb7FUHBr5dEVao721UoAAdRifrQxxw4BC61-hKnlUvQRJ1gMIzrLl8WSnGbpOrdqVf9lPE5u5oktBabwnL9qUWMk9BVID1bP266I7yd9ego-OeShnRr_jPUj38lIq5F4XIEJTdj4xbUzu_BgEdFiJdMGm1h0zyX_lUEbz6CdTfprw_3-HGkp542-aLwlKnUl_IGhcn4L_fQ0q2D34o7mg0Uw0qCkLxlK4relI8fgHkXByDX4ZYNkvuEcVGo-MbJUh_OyvDgYAjCXZHck5NC2SpHUsiIaO9N67vBh1_nRwO7MF0Zl4nN1A=s64",
      "userId": "02649685323202507997"
     },
     "user_tz": -660
    },
    "id": "icTHHo5VPSeK",
    "outputId": "3550ec96-d06c-49d2-effd-96d3a6def21f"
   },
   "outputs": [
    {
     "name": "stdout",
     "output_type": "stream",
     "text": [
      "{'Server': 'nginx/1.10.3', 'Date': 'Fri, 14 May 2021 07:12:02 GMT', 'Content-Type': 'application/json', 'Content-Length': '521', 'Connection': 'keep-alive', 'Via': '1.1 vegur'}\n"
     ]
    }
   ],
   "source": [
    "#ANSWER:\n",
    "print(response.headers)"
   ]
  },
  {
   "cell_type": "markdown",
   "metadata": {
    "colab_type": "text",
    "id": "s7N8m_9JPSeN"
   },
   "source": [
    "Print the content of the response (the data that the server returned):"
   ]
  },
  {
   "cell_type": "code",
   "execution_count": 8,
   "metadata": {
    "colab": {
     "base_uri": "https://localhost:8080/",
     "height": 55
    },
    "colab_type": "code",
    "executionInfo": {
     "elapsed": 604,
     "status": "ok",
     "timestamp": 1585356776310,
     "user": {
      "displayName": "Rajas Khokle",
      "photoUrl": "https://lh3.googleusercontent.com/a-/AOh14GgW4zMCtnVcnIi1e7psM-PLESAV_VDsIm5yNZgnp-ZqWIB3iTeM5_s-QP5AE0CYLhckIEt0dtQu0EvGMHNBnslGWRBpntayrPb_XTFecOD1gqJhIJ_fKG_rEPddf04v2mpyx9HQ-i3wv7PRjgk26rCnyqQEptN_4XmpLXPYmozpxkH4jPKZPZiqRNNGMBoUKs04HKfSrxpgLlpcdGPmsGsGdzD7yVGD9C4QUgi7MAOBQmHskCzM_kXNTvsGdbSzWOvvdNPiq0LqF36-UEjO-vHi3RD8cwCjdlzTbb2R-ZgRfAP6mUXupxkDJRQlLA7kIel1wq1I7dexzrAyX1EuAxDNO9yK1oWWOTk77KP9QHy8M3kApWL5ERLZ0FnXsyINBCQeKnGblwrfHNqXwGWsCKtJ0oWYJjjaQ8lWMY71h2Mt9LoB1SteTMqxSpOZCqvxTETNVfykdK5MThAdDZb7FUHBr5dEVao721UoAAdRifrQxxw4BC61-hKnlUvQRJ1gMIzrLl8WSnGbpOrdqVf9lPE5u5oktBabwnL9qUWMk9BVID1bP266I7yd9ego-OeShnRr_jPUj38lIq5F4XIEJTdj4xbUzu_BgEdFiJdMGm1h0zyX_lUEbz6CdTfprw_3-HGkp542-aLwlKnUl_IGhcn4L_fQ0q2D34o7mg0Uw0qCkLxlK4relI8fgHkXByDX4ZYNkvuEcVGo-MbJUh_OyvDgYAjCXZHck5NC2SpHUsiIaO9N67vBh1_nRwO7MF0Zl4nN1A=s64",
      "userId": "02649685323202507997"
     },
     "user_tz": -660
    },
    "id": "LRs1APROPSeN",
    "outputId": "e74cd223-aefb-41d9-affa-72abfc5c3ead"
   },
   "outputs": [
    {
     "name": "stdout",
     "output_type": "stream",
     "text": [
      "b'{\\n  \"message\": \"success\", \\n  \"request\": {\\n    \"altitude\": 100, \\n    \"datetime\": 1620974662, \\n    \"latitude\": -33.87, \\n    \"longitude\": 151.21, \\n    \"passes\": 5\\n  }, \\n  \"response\": [\\n    {\\n      \"duration\": 377, \\n      \"risetime\": 1620979388\\n    }, \\n    {\\n      \"duration\": 621, \\n      \"risetime\": 1621027722\\n    }, \\n    {\\n      \"duration\": 634, \\n      \"risetime\": 1621033520\\n    }, \\n    {\\n      \"duration\": 453, \\n      \"risetime\": 1621039477\\n    }, \\n    {\\n      \"duration\": 350, \\n      \"risetime\": 1621045441\\n    }\\n  ]\\n}\\n'\n"
     ]
    }
   ],
   "source": [
    "#ANSWER:\n",
    "print(response.content)"
   ]
  },
  {
   "cell_type": "markdown",
   "metadata": {
    "colab_type": "text",
    "id": "ihiiYMtiPSeP"
   },
   "source": [
    "Note that this is a Python byte string:"
   ]
  },
  {
   "cell_type": "code",
   "execution_count": 10,
   "metadata": {
    "colab": {
     "base_uri": "https://localhost:8080/",
     "height": 35
    },
    "colab_type": "code",
    "executionInfo": {
     "elapsed": 657,
     "status": "ok",
     "timestamp": 1585356782884,
     "user": {
      "displayName": "Rajas Khokle",
      "photoUrl": "https://lh3.googleusercontent.com/a-/AOh14GgW4zMCtnVcnIi1e7psM-PLESAV_VDsIm5yNZgnp-ZqWIB3iTeM5_s-QP5AE0CYLhckIEt0dtQu0EvGMHNBnslGWRBpntayrPb_XTFecOD1gqJhIJ_fKG_rEPddf04v2mpyx9HQ-i3wv7PRjgk26rCnyqQEptN_4XmpLXPYmozpxkH4jPKZPZiqRNNGMBoUKs04HKfSrxpgLlpcdGPmsGsGdzD7yVGD9C4QUgi7MAOBQmHskCzM_kXNTvsGdbSzWOvvdNPiq0LqF36-UEjO-vHi3RD8cwCjdlzTbb2R-ZgRfAP6mUXupxkDJRQlLA7kIel1wq1I7dexzrAyX1EuAxDNO9yK1oWWOTk77KP9QHy8M3kApWL5ERLZ0FnXsyINBCQeKnGblwrfHNqXwGWsCKtJ0oWYJjjaQ8lWMY71h2Mt9LoB1SteTMqxSpOZCqvxTETNVfykdK5MThAdDZb7FUHBr5dEVao721UoAAdRifrQxxw4BC61-hKnlUvQRJ1gMIzrLl8WSnGbpOrdqVf9lPE5u5oktBabwnL9qUWMk9BVID1bP266I7yd9ego-OeShnRr_jPUj38lIq5F4XIEJTdj4xbUzu_BgEdFiJdMGm1h0zyX_lUEbz6CdTfprw_3-HGkp542-aLwlKnUl_IGhcn4L_fQ0q2D34o7mg0Uw0qCkLxlK4relI8fgHkXByDX4ZYNkvuEcVGo-MbJUh_OyvDgYAjCXZHck5NC2SpHUsiIaO9N67vBh1_nRwO7MF0Zl4nN1A=s64",
      "userId": "02649685323202507997"
     },
     "user_tz": -660
    },
    "id": "TLF68HYRPSeQ",
    "outputId": "2754b9d2-1d81-44c2-f7d8-43c13d72b468"
   },
   "outputs": [
    {
     "name": "stdout",
     "output_type": "stream",
     "text": [
      "<class 'bytes'>\n"
     ]
    }
   ],
   "source": [
    "# print the type\n",
    "print(type(response.content))"
   ]
  },
  {
   "cell_type": "code",
   "execution_count": 12,
   "metadata": {},
   "outputs": [
    {
     "data": {
      "text/plain": [
       "'{\\n  \"message\": \"success\", \\n  \"request\": {\\n    \"altitude\": 100, \\n    \"datetime\": 1620974662, \\n    \"latitude\": -33.87, \\n    \"longitude\": 151.21, \\n    \"passes\": 5\\n  }, \\n  \"response\": [\\n    {\\n      \"duration\": 377, \\n      \"risetime\": 1620979388\\n    }, \\n    {\\n      \"duration\": 621, \\n      \"risetime\": 1621027722\\n    }, \\n    {\\n      \"duration\": 634, \\n      \"risetime\": 1621033520\\n    }, \\n    {\\n      \"duration\": 453, \\n      \"risetime\": 1621039477\\n    }, \\n    {\\n      \"duration\": 350, \\n      \"risetime\": 1621045441\\n    }\\n  ]\\n}\\n'"
      ]
     },
     "execution_count": 12,
     "metadata": {},
     "output_type": "execute_result"
    }
   ],
   "source": [
    "response.text"
   ]
  },
  {
   "cell_type": "markdown",
   "metadata": {
    "colab_type": "text",
    "id": "t32ZTiKAPSeS"
   },
   "source": [
    "Print just the \"content-type\" value from the header:"
   ]
  },
  {
   "cell_type": "code",
   "execution_count": 11,
   "metadata": {
    "colab": {
     "base_uri": "https://localhost:8080/",
     "height": 35
    },
    "colab_type": "code",
    "executionInfo": {
     "elapsed": 603,
     "status": "ok",
     "timestamp": 1585356784705,
     "user": {
      "displayName": "Rajas Khokle",
      "photoUrl": "https://lh3.googleusercontent.com/a-/AOh14GgW4zMCtnVcnIi1e7psM-PLESAV_VDsIm5yNZgnp-ZqWIB3iTeM5_s-QP5AE0CYLhckIEt0dtQu0EvGMHNBnslGWRBpntayrPb_XTFecOD1gqJhIJ_fKG_rEPddf04v2mpyx9HQ-i3wv7PRjgk26rCnyqQEptN_4XmpLXPYmozpxkH4jPKZPZiqRNNGMBoUKs04HKfSrxpgLlpcdGPmsGsGdzD7yVGD9C4QUgi7MAOBQmHskCzM_kXNTvsGdbSzWOvvdNPiq0LqF36-UEjO-vHi3RD8cwCjdlzTbb2R-ZgRfAP6mUXupxkDJRQlLA7kIel1wq1I7dexzrAyX1EuAxDNO9yK1oWWOTk77KP9QHy8M3kApWL5ERLZ0FnXsyINBCQeKnGblwrfHNqXwGWsCKtJ0oWYJjjaQ8lWMY71h2Mt9LoB1SteTMqxSpOZCqvxTETNVfykdK5MThAdDZb7FUHBr5dEVao721UoAAdRifrQxxw4BC61-hKnlUvQRJ1gMIzrLl8WSnGbpOrdqVf9lPE5u5oktBabwnL9qUWMk9BVID1bP266I7yd9ego-OeShnRr_jPUj38lIq5F4XIEJTdj4xbUzu_BgEdFiJdMGm1h0zyX_lUEbz6CdTfprw_3-HGkp542-aLwlKnUl_IGhcn4L_fQ0q2D34o7mg0Uw0qCkLxlK4relI8fgHkXByDX4ZYNkvuEcVGo-MbJUh_OyvDgYAjCXZHck5NC2SpHUsiIaO9N67vBh1_nRwO7MF0Zl4nN1A=s64",
      "userId": "02649685323202507997"
     },
     "user_tz": -660
    },
    "id": "TXH73woTPSeT",
    "outputId": "14d0aca2-9258-4ae2-e309-44a2406433be"
   },
   "outputs": [
    {
     "name": "stdout",
     "output_type": "stream",
     "text": [
      "application/json\n"
     ]
    }
   ],
   "source": [
    "#ANSWER:\n",
    "print(response.headers[\"content-type\"])"
   ]
  },
  {
   "cell_type": "markdown",
   "metadata": {
    "colab_type": "text",
    "id": "gvFR-og7PSeW"
   },
   "source": [
    "JSON was designed to be easy for computers to read, not for people. The `requests` library can decode the JSON byte string:"
   ]
  },
  {
   "cell_type": "code",
   "execution_count": 13,
   "metadata": {
    "colab": {
     "base_uri": "https://localhost:8080/",
     "height": 55
    },
    "colab_type": "code",
    "executionInfo": {
     "elapsed": 642,
     "status": "ok",
     "timestamp": 1585356786595,
     "user": {
      "displayName": "Rajas Khokle",
      "photoUrl": "https://lh3.googleusercontent.com/a-/AOh14GgW4zMCtnVcnIi1e7psM-PLESAV_VDsIm5yNZgnp-ZqWIB3iTeM5_s-QP5AE0CYLhckIEt0dtQu0EvGMHNBnslGWRBpntayrPb_XTFecOD1gqJhIJ_fKG_rEPddf04v2mpyx9HQ-i3wv7PRjgk26rCnyqQEptN_4XmpLXPYmozpxkH4jPKZPZiqRNNGMBoUKs04HKfSrxpgLlpcdGPmsGsGdzD7yVGD9C4QUgi7MAOBQmHskCzM_kXNTvsGdbSzWOvvdNPiq0LqF36-UEjO-vHi3RD8cwCjdlzTbb2R-ZgRfAP6mUXupxkDJRQlLA7kIel1wq1I7dexzrAyX1EuAxDNO9yK1oWWOTk77KP9QHy8M3kApWL5ERLZ0FnXsyINBCQeKnGblwrfHNqXwGWsCKtJ0oWYJjjaQ8lWMY71h2Mt9LoB1SteTMqxSpOZCqvxTETNVfykdK5MThAdDZb7FUHBr5dEVao721UoAAdRifrQxxw4BC61-hKnlUvQRJ1gMIzrLl8WSnGbpOrdqVf9lPE5u5oktBabwnL9qUWMk9BVID1bP266I7yd9ego-OeShnRr_jPUj38lIq5F4XIEJTdj4xbUzu_BgEdFiJdMGm1h0zyX_lUEbz6CdTfprw_3-HGkp542-aLwlKnUl_IGhcn4L_fQ0q2D34o7mg0Uw0qCkLxlK4relI8fgHkXByDX4ZYNkvuEcVGo-MbJUh_OyvDgYAjCXZHck5NC2SpHUsiIaO9N67vBh1_nRwO7MF0Zl4nN1A=s64",
      "userId": "02649685323202507997"
     },
     "user_tz": -660
    },
    "id": "CtDMBKV0PSeW",
    "outputId": "ea55de23-a63b-4b6a-8fb7-44b0eaca0307"
   },
   "outputs": [
    {
     "name": "stdout",
     "output_type": "stream",
     "text": [
      "{'message': 'success', 'request': {'altitude': 100, 'datetime': 1620974662, 'latitude': -33.87, 'longitude': 151.21, 'passes': 5}, 'response': [{'duration': 377, 'risetime': 1620979388}, {'duration': 621, 'risetime': 1621027722}, {'duration': 634, 'risetime': 1621033520}, {'duration': 453, 'risetime': 1621039477}, {'duration': 350, 'risetime': 1621045441}]}\n"
     ]
    }
   ],
   "source": [
    "overheads = response.json()\n",
    "print(overheads)"
   ]
  },
  {
   "cell_type": "markdown",
   "metadata": {
    "colab_type": "text",
    "id": "gRvtNZ6vPSeZ"
   },
   "source": [
    "What kind (type) of object did this give us?"
   ]
  },
  {
   "cell_type": "code",
   "execution_count": 14,
   "metadata": {
    "colab": {
     "base_uri": "https://localhost:8080/",
     "height": 35
    },
    "colab_type": "code",
    "executionInfo": {
     "elapsed": 644,
     "status": "ok",
     "timestamp": 1585356799682,
     "user": {
      "displayName": "Rajas Khokle",
      "photoUrl": "https://lh3.googleusercontent.com/a-/AOh14GgW4zMCtnVcnIi1e7psM-PLESAV_VDsIm5yNZgnp-ZqWIB3iTeM5_s-QP5AE0CYLhckIEt0dtQu0EvGMHNBnslGWRBpntayrPb_XTFecOD1gqJhIJ_fKG_rEPddf04v2mpyx9HQ-i3wv7PRjgk26rCnyqQEptN_4XmpLXPYmozpxkH4jPKZPZiqRNNGMBoUKs04HKfSrxpgLlpcdGPmsGsGdzD7yVGD9C4QUgi7MAOBQmHskCzM_kXNTvsGdbSzWOvvdNPiq0LqF36-UEjO-vHi3RD8cwCjdlzTbb2R-ZgRfAP6mUXupxkDJRQlLA7kIel1wq1I7dexzrAyX1EuAxDNO9yK1oWWOTk77KP9QHy8M3kApWL5ERLZ0FnXsyINBCQeKnGblwrfHNqXwGWsCKtJ0oWYJjjaQ8lWMY71h2Mt9LoB1SteTMqxSpOZCqvxTETNVfykdK5MThAdDZb7FUHBr5dEVao721UoAAdRifrQxxw4BC61-hKnlUvQRJ1gMIzrLl8WSnGbpOrdqVf9lPE5u5oktBabwnL9qUWMk9BVID1bP266I7yd9ego-OeShnRr_jPUj38lIq5F4XIEJTdj4xbUzu_BgEdFiJdMGm1h0zyX_lUEbz6CdTfprw_3-HGkp542-aLwlKnUl_IGhcn4L_fQ0q2D34o7mg0Uw0qCkLxlK4relI8fgHkXByDX4ZYNkvuEcVGo-MbJUh_OyvDgYAjCXZHck5NC2SpHUsiIaO9N67vBh1_nRwO7MF0Zl4nN1A=s64",
      "userId": "02649685323202507997"
     },
     "user_tz": -660
    },
    "id": "YGbk411APSeZ",
    "outputId": "9a014bef-72d3-4680-ccd1-b070d1acc41f"
   },
   "outputs": [
    {
     "name": "stdout",
     "output_type": "stream",
     "text": [
      "<class 'dict'>\n"
     ]
    }
   ],
   "source": [
    "#ANSWER:\n",
    "print(type(overheads))"
   ]
  },
  {
   "cell_type": "markdown",
   "metadata": {
    "colab_type": "text",
    "id": "S_MS9h-XPSec"
   },
   "source": [
    "Python dicts  {key : value} are easier to work with, but the data we want is still buried in that data structure, so we have to dig it out. First, extract the `response` value to a separate dict:"
   ]
  },
  {
   "cell_type": "code",
   "execution_count": 29,
   "metadata": {
    "colab": {},
    "colab_type": "code",
    "id": "fFAOabD1PSed"
   },
   "outputs": [],
   "source": [
    "#ANSWER:\n",
    "passes = overheads['response']"
   ]
  },
  {
   "cell_type": "code",
   "execution_count": 30,
   "metadata": {},
   "outputs": [
    {
     "name": "stdout",
     "output_type": "stream",
     "text": [
      "[{'duration': 377, 'risetime': 1620979388}, {'duration': 621, 'risetime': 1621027722}, {'duration': 634, 'risetime': 1621033520}, {'duration': 453, 'risetime': 1621039477}, {'duration': 350, 'risetime': 1621045441}]\n"
     ]
    }
   ],
   "source": [
    "print(passes)"
   ]
  },
  {
   "cell_type": "code",
   "execution_count": 16,
   "metadata": {
    "colab": {
     "base_uri": "https://localhost:8080/",
     "height": 35
    },
    "colab_type": "code",
    "executionInfo": {
     "elapsed": 655,
     "status": "ok",
     "timestamp": 1585356853515,
     "user": {
      "displayName": "Rajas Khokle",
      "photoUrl": "https://lh3.googleusercontent.com/a-/AOh14GgW4zMCtnVcnIi1e7psM-PLESAV_VDsIm5yNZgnp-ZqWIB3iTeM5_s-QP5AE0CYLhckIEt0dtQu0EvGMHNBnslGWRBpntayrPb_XTFecOD1gqJhIJ_fKG_rEPddf04v2mpyx9HQ-i3wv7PRjgk26rCnyqQEptN_4XmpLXPYmozpxkH4jPKZPZiqRNNGMBoUKs04HKfSrxpgLlpcdGPmsGsGdzD7yVGD9C4QUgi7MAOBQmHskCzM_kXNTvsGdbSzWOvvdNPiq0LqF36-UEjO-vHi3RD8cwCjdlzTbb2R-ZgRfAP6mUXupxkDJRQlLA7kIel1wq1I7dexzrAyX1EuAxDNO9yK1oWWOTk77KP9QHy8M3kApWL5ERLZ0FnXsyINBCQeKnGblwrfHNqXwGWsCKtJ0oWYJjjaQ8lWMY71h2Mt9LoB1SteTMqxSpOZCqvxTETNVfykdK5MThAdDZb7FUHBr5dEVao721UoAAdRifrQxxw4BC61-hKnlUvQRJ1gMIzrLl8WSnGbpOrdqVf9lPE5u5oktBabwnL9qUWMk9BVID1bP266I7yd9ego-OeShnRr_jPUj38lIq5F4XIEJTdj4xbUzu_BgEdFiJdMGm1h0zyX_lUEbz6CdTfprw_3-HGkp542-aLwlKnUl_IGhcn4L_fQ0q2D34o7mg0Uw0qCkLxlK4relI8fgHkXByDX4ZYNkvuEcVGo-MbJUh_OyvDgYAjCXZHck5NC2SpHUsiIaO9N67vBh1_nRwO7MF0Zl4nN1A=s64",
      "userId": "02649685323202507997"
     },
     "user_tz": -660
    },
    "id": "J3cVhI9CoTuY",
    "outputId": "730dff13-9ec4-4387-811b-a5b1ca3d68cf"
   },
   "outputs": [
    {
     "data": {
      "text/plain": [
       "1621027722"
      ]
     },
     "execution_count": 16,
     "metadata": {},
     "output_type": "execute_result"
    }
   ],
   "source": [
    "passes[1]['risetime']"
   ]
  },
  {
   "cell_type": "code",
   "execution_count": 17,
   "metadata": {
    "colab": {
     "base_uri": "https://localhost:8080/",
     "height": 35
    },
    "colab_type": "code",
    "executionInfo": {
     "elapsed": 1495,
     "status": "ok",
     "timestamp": 1585356932744,
     "user": {
      "displayName": "Rajas Khokle",
      "photoUrl": "https://lh3.googleusercontent.com/a-/AOh14GgW4zMCtnVcnIi1e7psM-PLESAV_VDsIm5yNZgnp-ZqWIB3iTeM5_s-QP5AE0CYLhckIEt0dtQu0EvGMHNBnslGWRBpntayrPb_XTFecOD1gqJhIJ_fKG_rEPddf04v2mpyx9HQ-i3wv7PRjgk26rCnyqQEptN_4XmpLXPYmozpxkH4jPKZPZiqRNNGMBoUKs04HKfSrxpgLlpcdGPmsGsGdzD7yVGD9C4QUgi7MAOBQmHskCzM_kXNTvsGdbSzWOvvdNPiq0LqF36-UEjO-vHi3RD8cwCjdlzTbb2R-ZgRfAP6mUXupxkDJRQlLA7kIel1wq1I7dexzrAyX1EuAxDNO9yK1oWWOTk77KP9QHy8M3kApWL5ERLZ0FnXsyINBCQeKnGblwrfHNqXwGWsCKtJ0oWYJjjaQ8lWMY71h2Mt9LoB1SteTMqxSpOZCqvxTETNVfykdK5MThAdDZb7FUHBr5dEVao721UoAAdRifrQxxw4BC61-hKnlUvQRJ1gMIzrLl8WSnGbpOrdqVf9lPE5u5oktBabwnL9qUWMk9BVID1bP266I7yd9ego-OeShnRr_jPUj38lIq5F4XIEJTdj4xbUzu_BgEdFiJdMGm1h0zyX_lUEbz6CdTfprw_3-HGkp542-aLwlKnUl_IGhcn4L_fQ0q2D34o7mg0Uw0qCkLxlK4relI8fgHkXByDX4ZYNkvuEcVGo-MbJUh_OyvDgYAjCXZHck5NC2SpHUsiIaO9N67vBh1_nRwO7MF0Zl4nN1A=s64",
      "userId": "02649685323202507997"
     },
     "user_tz": -660
    },
    "id": "MZYYYQeaoe6g",
    "outputId": "ee2db518-5f0f-4202-ef55-b764a414e8e2"
   },
   "outputs": [
    {
     "data": {
      "text/plain": [
       "[1620979388, 1621027722, 1621033520, 1621039477, 1621045441]"
      ]
     },
     "execution_count": 17,
     "metadata": {},
     "output_type": "execute_result"
    }
   ],
   "source": [
    "x = []\n",
    "for item in passes:\n",
    "    x.append(item['risetime'])\n",
    "x"
   ]
  },
  {
   "cell_type": "markdown",
   "metadata": {
    "colab_type": "text",
    "id": "-p_lGCdNPSef"
   },
   "source": [
    "Now extract the `risetime` strings into an array called `srisetimes`:"
   ]
  },
  {
   "cell_type": "code",
   "execution_count": 19,
   "metadata": {
    "colab": {
     "base_uri": "https://localhost:8080/",
     "height": 35
    },
    "colab_type": "code",
    "executionInfo": {
     "elapsed": 1133,
     "status": "ok",
     "timestamp": 1585357203597,
     "user": {
      "displayName": "Rajas Khokle",
      "photoUrl": "https://lh3.googleusercontent.com/a-/AOh14GgW4zMCtnVcnIi1e7psM-PLESAV_VDsIm5yNZgnp-ZqWIB3iTeM5_s-QP5AE0CYLhckIEt0dtQu0EvGMHNBnslGWRBpntayrPb_XTFecOD1gqJhIJ_fKG_rEPddf04v2mpyx9HQ-i3wv7PRjgk26rCnyqQEptN_4XmpLXPYmozpxkH4jPKZPZiqRNNGMBoUKs04HKfSrxpgLlpcdGPmsGsGdzD7yVGD9C4QUgi7MAOBQmHskCzM_kXNTvsGdbSzWOvvdNPiq0LqF36-UEjO-vHi3RD8cwCjdlzTbb2R-ZgRfAP6mUXupxkDJRQlLA7kIel1wq1I7dexzrAyX1EuAxDNO9yK1oWWOTk77KP9QHy8M3kApWL5ERLZ0FnXsyINBCQeKnGblwrfHNqXwGWsCKtJ0oWYJjjaQ8lWMY71h2Mt9LoB1SteTMqxSpOZCqvxTETNVfykdK5MThAdDZb7FUHBr5dEVao721UoAAdRifrQxxw4BC61-hKnlUvQRJ1gMIzrLl8WSnGbpOrdqVf9lPE5u5oktBabwnL9qUWMk9BVID1bP266I7yd9ego-OeShnRr_jPUj38lIq5F4XIEJTdj4xbUzu_BgEdFiJdMGm1h0zyX_lUEbz6CdTfprw_3-HGkp542-aLwlKnUl_IGhcn4L_fQ0q2D34o7mg0Uw0qCkLxlK4relI8fgHkXByDX4ZYNkvuEcVGo-MbJUh_OyvDgYAjCXZHck5NC2SpHUsiIaO9N67vBh1_nRwO7MF0Zl4nN1A=s64",
      "userId": "02649685323202507997"
     },
     "user_tz": -660
    },
    "id": "hhG3eVXNPSeg",
    "outputId": "fbf90516-401b-4f11-a068-0fc26e0a2d30"
   },
   "outputs": [
    {
     "data": {
      "text/plain": [
       "[1620979388, 1621027722, 1621033520, 1621039477, 1621045441]"
      ]
     },
     "execution_count": 19,
     "metadata": {},
     "output_type": "execute_result"
    }
   ],
   "source": [
    "#ALT. ANSWER:\n",
    "srisetimes = [xpass['risetime'] for xpass in passes]\n",
    "srisetimes"
   ]
  },
  {
   "cell_type": "markdown",
   "metadata": {
    "colab_type": "text",
    "id": "HQGjpo7RPSei"
   },
   "source": [
    "These values are in Unix Timestamp format.  Convert these to an array of Python `datetime` values called `risetimes`:\n",
    "\n",
    "```\n",
    "datetime.fromtimestamp(str)\n",
    "```"
   ]
  },
  {
   "cell_type": "code",
   "execution_count": 20,
   "metadata": {
    "colab": {},
    "colab_type": "code",
    "id": "91_46UnvPSei"
   },
   "outputs": [],
   "source": [
    "#ANSWER:\n",
    "risetimes = [datetime.fromtimestamp(xpass['risetime']) for xpass in passes] "
   ]
  },
  {
   "cell_type": "code",
   "execution_count": 21,
   "metadata": {
    "colab": {
     "base_uri": "https://localhost:8080/",
     "height": 108
    },
    "colab_type": "code",
    "executionInfo": {
     "elapsed": 611,
     "status": "ok",
     "timestamp": 1585357275286,
     "user": {
      "displayName": "Rajas Khokle",
      "photoUrl": "https://lh3.googleusercontent.com/a-/AOh14GgW4zMCtnVcnIi1e7psM-PLESAV_VDsIm5yNZgnp-ZqWIB3iTeM5_s-QP5AE0CYLhckIEt0dtQu0EvGMHNBnslGWRBpntayrPb_XTFecOD1gqJhIJ_fKG_rEPddf04v2mpyx9HQ-i3wv7PRjgk26rCnyqQEptN_4XmpLXPYmozpxkH4jPKZPZiqRNNGMBoUKs04HKfSrxpgLlpcdGPmsGsGdzD7yVGD9C4QUgi7MAOBQmHskCzM_kXNTvsGdbSzWOvvdNPiq0LqF36-UEjO-vHi3RD8cwCjdlzTbb2R-ZgRfAP6mUXupxkDJRQlLA7kIel1wq1I7dexzrAyX1EuAxDNO9yK1oWWOTk77KP9QHy8M3kApWL5ERLZ0FnXsyINBCQeKnGblwrfHNqXwGWsCKtJ0oWYJjjaQ8lWMY71h2Mt9LoB1SteTMqxSpOZCqvxTETNVfykdK5MThAdDZb7FUHBr5dEVao721UoAAdRifrQxxw4BC61-hKnlUvQRJ1gMIzrLl8WSnGbpOrdqVf9lPE5u5oktBabwnL9qUWMk9BVID1bP266I7yd9ego-OeShnRr_jPUj38lIq5F4XIEJTdj4xbUzu_BgEdFiJdMGm1h0zyX_lUEbz6CdTfprw_3-HGkp542-aLwlKnUl_IGhcn4L_fQ0q2D34o7mg0Uw0qCkLxlK4relI8fgHkXByDX4ZYNkvuEcVGo-MbJUh_OyvDgYAjCXZHck5NC2SpHUsiIaO9N67vBh1_nRwO7MF0Zl4nN1A=s64",
      "userId": "02649685323202507997"
     },
     "user_tz": -660
    },
    "id": "ToWNfe0xqAuH",
    "outputId": "a5a7f930-89da-4c15-8075-2b6048f2a796"
   },
   "outputs": [
    {
     "data": {
      "text/plain": [
       "[datetime.datetime(2021, 5, 14, 16, 3, 8),\n",
       " datetime.datetime(2021, 5, 15, 5, 28, 42),\n",
       " datetime.datetime(2021, 5, 15, 7, 5, 20),\n",
       " datetime.datetime(2021, 5, 15, 8, 44, 37),\n",
       " datetime.datetime(2021, 5, 15, 10, 24, 1)]"
      ]
     },
     "execution_count": 21,
     "metadata": {},
     "output_type": "execute_result"
    }
   ],
   "source": [
    "risetimes"
   ]
  },
  {
   "cell_type": "markdown",
   "metadata": {
    "colab_type": "text",
    "id": "Smg188_lPSek"
   },
   "source": [
    "Finally, print these in a format that people understand:"
   ]
  },
  {
   "cell_type": "code",
   "execution_count": 22,
   "metadata": {
    "colab": {
     "base_uri": "https://localhost:8080/",
     "height": 108
    },
    "colab_type": "code",
    "executionInfo": {
     "elapsed": 681,
     "status": "ok",
     "timestamp": 1585357324544,
     "user": {
      "displayName": "Rajas Khokle",
      "photoUrl": "https://lh3.googleusercontent.com/a-/AOh14GgW4zMCtnVcnIi1e7psM-PLESAV_VDsIm5yNZgnp-ZqWIB3iTeM5_s-QP5AE0CYLhckIEt0dtQu0EvGMHNBnslGWRBpntayrPb_XTFecOD1gqJhIJ_fKG_rEPddf04v2mpyx9HQ-i3wv7PRjgk26rCnyqQEptN_4XmpLXPYmozpxkH4jPKZPZiqRNNGMBoUKs04HKfSrxpgLlpcdGPmsGsGdzD7yVGD9C4QUgi7MAOBQmHskCzM_kXNTvsGdbSzWOvvdNPiq0LqF36-UEjO-vHi3RD8cwCjdlzTbb2R-ZgRfAP6mUXupxkDJRQlLA7kIel1wq1I7dexzrAyX1EuAxDNO9yK1oWWOTk77KP9QHy8M3kApWL5ERLZ0FnXsyINBCQeKnGblwrfHNqXwGWsCKtJ0oWYJjjaQ8lWMY71h2Mt9LoB1SteTMqxSpOZCqvxTETNVfykdK5MThAdDZb7FUHBr5dEVao721UoAAdRifrQxxw4BC61-hKnlUvQRJ1gMIzrLl8WSnGbpOrdqVf9lPE5u5oktBabwnL9qUWMk9BVID1bP266I7yd9ego-OeShnRr_jPUj38lIq5F4XIEJTdj4xbUzu_BgEdFiJdMGm1h0zyX_lUEbz6CdTfprw_3-HGkp542-aLwlKnUl_IGhcn4L_fQ0q2D34o7mg0Uw0qCkLxlK4relI8fgHkXByDX4ZYNkvuEcVGo-MbJUh_OyvDgYAjCXZHck5NC2SpHUsiIaO9N67vBh1_nRwO7MF0Zl4nN1A=s64",
      "userId": "02649685323202507997"
     },
     "user_tz": -660
    },
    "id": "kHyLo-juPSem",
    "outputId": "69b1d6f7-3924-461a-b455-3efac88742aa"
   },
   "outputs": [
    {
     "name": "stdout",
     "output_type": "stream",
     "text": [
      "14/05/21 04:03\n",
      "15/05/21 05:28\n",
      "15/05/21 07:05\n",
      "15/05/21 08:44\n",
      "15/05/21 10:24\n"
     ]
    }
   ],
   "source": [
    "#ANSWER:\n",
    "for risetime in risetimes:\n",
    "    print(risetime.strftime('%d/%m/%y %I:%M'))"
   ]
  },
  {
   "cell_type": "markdown",
   "metadata": {
    "colab_type": "text",
    "id": "Sjb28FVlPSep"
   },
   "source": [
    "Here is an endpoint that tells us who is onboard:"
   ]
  },
  {
   "cell_type": "code",
   "execution_count": 23,
   "metadata": {
    "colab": {},
    "colab_type": "code",
    "id": "g85mIM0KPSeq"
   },
   "outputs": [],
   "source": [
    "response = requests.get(\"http://api.open-notify.org/astros.json\")"
   ]
  },
  {
   "cell_type": "markdown",
   "metadata": {
    "colab_type": "text",
    "id": "zZdt0PFGPSes"
   },
   "source": [
    "Referring to the methods used above, extract the number of astronauts and their names:"
   ]
  },
  {
   "cell_type": "code",
   "execution_count": 24,
   "metadata": {},
   "outputs": [
    {
     "data": {
      "text/plain": [
       "'{\"number\": 7, \"message\": \"success\", \"people\": [{\"name\": \"Mark Vande Hei\", \"craft\": \"ISS\"}, {\"name\": \"Oleg Novitskiy\", \"craft\": \"ISS\"}, {\"name\": \"Pyotr Dubrov\", \"craft\": \"ISS\"}, {\"name\": \"Thomas Pesquet\", \"craft\": \"ISS\"}, {\"name\": \"Megan McArthur\", \"craft\": \"ISS\"}, {\"name\": \"Shane Kimbrough\", \"craft\": \"ISS\"}, {\"name\": \"Akihiko Hoshide\", \"craft\": \"ISS\"}]}'"
      ]
     },
     "execution_count": 24,
     "metadata": {},
     "output_type": "execute_result"
    }
   ],
   "source": [
    "response.text"
   ]
  },
  {
   "cell_type": "code",
   "execution_count": 25,
   "metadata": {},
   "outputs": [
    {
     "data": {
      "text/plain": [
       "b'{\"number\": 7, \"message\": \"success\", \"people\": [{\"name\": \"Mark Vande Hei\", \"craft\": \"ISS\"}, {\"name\": \"Oleg Novitskiy\", \"craft\": \"ISS\"}, {\"name\": \"Pyotr Dubrov\", \"craft\": \"ISS\"}, {\"name\": \"Thomas Pesquet\", \"craft\": \"ISS\"}, {\"name\": \"Megan McArthur\", \"craft\": \"ISS\"}, {\"name\": \"Shane Kimbrough\", \"craft\": \"ISS\"}, {\"name\": \"Akihiko Hoshide\", \"craft\": \"ISS\"}]}'"
      ]
     },
     "execution_count": 25,
     "metadata": {},
     "output_type": "execute_result"
    }
   ],
   "source": [
    "response.content"
   ]
  },
  {
   "cell_type": "code",
   "execution_count": 26,
   "metadata": {
    "colab": {
     "base_uri": "https://localhost:8080/",
     "height": 146
    },
    "colab_type": "code",
    "executionInfo": {
     "elapsed": 632,
     "status": "ok",
     "timestamp": 1585357398364,
     "user": {
      "displayName": "Rajas Khokle",
      "photoUrl": "https://lh3.googleusercontent.com/a-/AOh14GgW4zMCtnVcnIi1e7psM-PLESAV_VDsIm5yNZgnp-ZqWIB3iTeM5_s-QP5AE0CYLhckIEt0dtQu0EvGMHNBnslGWRBpntayrPb_XTFecOD1gqJhIJ_fKG_rEPddf04v2mpyx9HQ-i3wv7PRjgk26rCnyqQEptN_4XmpLXPYmozpxkH4jPKZPZiqRNNGMBoUKs04HKfSrxpgLlpcdGPmsGsGdzD7yVGD9C4QUgi7MAOBQmHskCzM_kXNTvsGdbSzWOvvdNPiq0LqF36-UEjO-vHi3RD8cwCjdlzTbb2R-ZgRfAP6mUXupxkDJRQlLA7kIel1wq1I7dexzrAyX1EuAxDNO9yK1oWWOTk77KP9QHy8M3kApWL5ERLZ0FnXsyINBCQeKnGblwrfHNqXwGWsCKtJ0oWYJjjaQ8lWMY71h2Mt9LoB1SteTMqxSpOZCqvxTETNVfykdK5MThAdDZb7FUHBr5dEVao721UoAAdRifrQxxw4BC61-hKnlUvQRJ1gMIzrLl8WSnGbpOrdqVf9lPE5u5oktBabwnL9qUWMk9BVID1bP266I7yd9ego-OeShnRr_jPUj38lIq5F4XIEJTdj4xbUzu_BgEdFiJdMGm1h0zyX_lUEbz6CdTfprw_3-HGkp542-aLwlKnUl_IGhcn4L_fQ0q2D34o7mg0Uw0qCkLxlK4relI8fgHkXByDX4ZYNkvuEcVGo-MbJUh_OyvDgYAjCXZHck5NC2SpHUsiIaO9N67vBh1_nRwO7MF0Zl4nN1A=s64",
      "userId": "02649685323202507997"
     },
     "user_tz": -660
    },
    "id": "C-xQ7crIPSet",
    "outputId": "e964bb40-224c-4cf2-eb3a-a0d2958bf115"
   },
   "outputs": [
    {
     "name": "stdout",
     "output_type": "stream",
     "text": [
      "{'number': 7, 'message': 'success', 'people': [{'name': 'Mark Vande Hei', 'craft': 'ISS'}, {'name': 'Oleg Novitskiy', 'craft': 'ISS'}, {'name': 'Pyotr Dubrov', 'craft': 'ISS'}, {'name': 'Thomas Pesquet', 'craft': 'ISS'}, {'name': 'Megan McArthur', 'craft': 'ISS'}, {'name': 'Shane Kimbrough', 'craft': 'ISS'}, {'name': 'Akihiko Hoshide', 'craft': 'ISS'}]}\n",
      "7\n",
      "Mark Vande Hei\n",
      "Oleg Novitskiy\n",
      "Pyotr Dubrov\n",
      "Thomas Pesquet\n",
      "Megan McArthur\n",
      "Shane Kimbrough\n",
      "Akihiko Hoshide\n"
     ]
    },
    {
     "data": {
      "text/plain": [
       "[None, None, None, None, None, None, None]"
      ]
     },
     "execution_count": 26,
     "metadata": {},
     "output_type": "execute_result"
    }
   ],
   "source": [
    "#ANSWER:\n",
    "astros = response.json()\n",
    "print(astros)\n",
    "print(astros[\"number\"])\n",
    "[print(astronaut['name']) for astronaut in astros['people']]"
   ]
  },
  {
   "cell_type": "markdown",
   "metadata": {
    "colab_type": "text",
    "id": "1Rn4O7k1PSew"
   },
   "source": [
    "## HOMEWORK\n"
   ]
  },
  {
   "cell_type": "markdown",
   "metadata": {
    "colab_type": "text",
    "id": "xsglseYlPSew"
   },
   "source": [
    "1. Write a simple handler for the response status code (refer to lab resources slide for HTTP response codes). As this Jupyter Notebook is an interactive device, the handler does not need to manage subsequent code execution (i.e. by branching or aborting execution), although it should return something that could be used to do so if deployed in a Python program."
   ]
  },
  {
   "cell_type": "code",
   "execution_count": 27,
   "metadata": {
    "colab": {},
    "colab_type": "code",
    "id": "-7CKNKqkPSew"
   },
   "outputs": [],
   "source": [
    "#ANSWER:\n",
    "def handleResponse(response, verbose = False):\n",
    "    if response.status_code == 200:\n",
    "        if verbose:\n",
    "            print('Response = 200: OK')\n",
    "        fail = False\n",
    "    else:\n",
    "        if verbose:\n",
    "            print('Response = ' + str(response.status_code) + ': ' + '(TODO: output of lookup function here)')\n",
    "        fail = True\n",
    "    return(fail, response.status_code)"
   ]
  },
  {
   "cell_type": "markdown",
   "metadata": {
    "colab_type": "text",
    "id": "SanJ4TXoPSex"
   },
   "source": [
    "2. Test your response handler on some correct and incorrect API calls."
   ]
  },
  {
   "cell_type": "code",
   "execution_count": 28,
   "metadata": {
    "colab": {},
    "colab_type": "code",
    "id": "lpw3M-pqPSey"
   },
   "outputs": [
    {
     "name": "stdout",
     "output_type": "stream",
     "text": [
      "Response = 400: (TODO: output of lookup function here)\n"
     ]
    },
    {
     "data": {
      "text/plain": [
       "True"
      ]
     },
     "execution_count": 28,
     "metadata": {},
     "output_type": "execute_result"
    }
   ],
   "source": [
    "response = requests.get(\"http://api.open-notify.org/astros.json\")\n",
    "if handleResponse(response)[0]:\n",
    "    print('API call failed. Resolve issue before continuing!')\n",
    "    \n",
    "response = requests.get(\"http://api.open-notify.org/iss-pass.json\")\n",
    "handleResponse(response, True)[0]"
   ]
  },
  {
   "cell_type": "markdown",
   "metadata": {
    "colab_type": "text",
    "id": "hjlo5gkON5nB"
   },
   "source": [
    ">\n",
    ">\n",
    ">\n",
    ">\n",
    ">"
   ]
  },
  {
   "cell_type": "markdown",
   "metadata": {
    "colab_type": "text",
    "id": "fWOk43cgN71c"
   },
   "source": [
    "\n",
    "\n",
    "---\n",
    "\n",
    "\n",
    "\n",
    "---\n",
    "\n",
    "\n",
    "\n",
    "> > > > > > > > > © 2021 Institute of Data\n",
    "\n",
    "\n",
    "---\n",
    "\n",
    "\n",
    "\n",
    "---\n",
    "\n",
    "\n",
    "\n"
   ]
  }
 ],
 "metadata": {
  "colab": {
   "collapsed_sections": [],
   "name": "IOD_Lab 2.2.1 - ANSWER.ipynb",
   "provenance": []
  },
  "kernelspec": {
   "display_name": "Python 3",
   "language": "python",
   "name": "python3"
  },
  "language_info": {
   "codemirror_mode": {
    "name": "ipython",
    "version": 3
   },
   "file_extension": ".py",
   "mimetype": "text/x-python",
   "name": "python",
   "nbconvert_exporter": "python",
   "pygments_lexer": "ipython3",
   "version": "3.8.5"
  }
 },
 "nbformat": 4,
 "nbformat_minor": 1
}
