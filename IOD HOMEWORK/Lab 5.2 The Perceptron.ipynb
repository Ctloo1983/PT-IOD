{
 "cells": [
  {
   "cell_type": "markdown",
   "metadata": {
    "colab_type": "text",
    "id": "H5dwJZ84TWZG"
   },
   "source": [
    "<div>\n",
    "<img src=https://www.institutedata.com/wp-content/uploads/2019/10/iod_h_tp_primary_c.svg width=\"300\">\n",
    "</div>"
   ]
  },
  {
   "cell_type": "markdown",
   "metadata": {
    "colab_type": "text",
    "id": "Xm5kEXE9TWZJ"
   },
   "source": [
    "# Lab 5.2\n",
    "# *The Perceptron*"
   ]
  },
  {
   "cell_type": "markdown",
   "metadata": {
    "colab_type": "text",
    "id": "cFg_-o_GTWZL"
   },
   "source": [
    "The perceptron is the basic unit of a neural network. It learns by adjusting the weights applied to each of its inputs until the error at its output is minimised.\n",
    "\n",
    "The example in this lab uses the stochastic gradient descent (SGD) algorithm to optimise the weights of a perceptron applied to a 2D classification problem."
   ]
  },
  {
   "cell_type": "code",
   "execution_count": 25,
   "metadata": {
    "colab": {},
    "colab_type": "code",
    "id": "MU2YN0CoTWZN"
   },
   "outputs": [],
   "source": [
    "import numpy as np\n",
    "from matplotlib import pyplot as plt\n",
    "%matplotlib inline"
   ]
  },
  {
   "cell_type": "markdown",
   "metadata": {
    "colab_type": "text",
    "id": "e5MRSOnITWZU"
   },
   "source": [
    "The training dataset has 2 numeric features (X is 2D) and a binary response (y = +/-1):"
   ]
  },
  {
   "cell_type": "code",
   "execution_count": 26,
   "metadata": {
    "colab": {},
    "colab_type": "code",
    "id": "zCNkfDHPTWZW"
   },
   "outputs": [],
   "source": [
    "X = np.array([[-2, 4], [4, 1], [1, 6], [2, 4], [6, 2]])\n",
    "y = np.array([-1, -1, 1, 1, 1])"
   ]
  },
  {
   "cell_type": "code",
   "execution_count": 27,
   "metadata": {},
   "outputs": [
    {
     "name": "stdout",
     "output_type": "stream",
     "text": [
      "[[-2  4]\n",
      " [ 4  1]\n",
      " [ 1  6]\n",
      " [ 2  4]\n",
      " [ 6  2]]\n"
     ]
    }
   ],
   "source": [
    "print(X)"
   ]
  },
  {
   "cell_type": "code",
   "execution_count": 28,
   "metadata": {},
   "outputs": [
    {
     "name": "stdout",
     "output_type": "stream",
     "text": [
      "[-1 -1  1  1  1]\n"
     ]
    }
   ],
   "source": [
    "print(y)"
   ]
  },
  {
   "cell_type": "markdown",
   "metadata": {
    "colab_type": "text",
    "id": "TRSIf_r2TWZa"
   },
   "source": [
    "Here is the training data, along with a candidate hyperplane that separates the classes:"
   ]
  },
  {
   "cell_type": "code",
   "execution_count": 29,
   "metadata": {
    "colab": {},
    "colab_type": "code",
    "id": "SsDC3qSQTWZd",
    "outputId": "7bca2892-31b7-4ac3-ee5e-6c5019150b65"
   },
   "outputs": [
    {
     "data": {
      "image/png": "[encoded data removed]",
      "text/plain": [
       "<Figure size 432x288 with 1 Axes>"
      ]
     },
     "metadata": {
      "needs_background": "light"
     },
     "output_type": "display_data"
    }
   ],
   "source": [
    "def plotData(X):\n",
    "    for d, sample in enumerate(X):\n",
    "        # Plot the samples labelled 'negative -'\n",
    "        if d < 2:\n",
    "            plt.scatter(sample[0], sample[1], s = 120, marker = '_', color = 'blue', linewidths = 2)\n",
    "        # lot the samples labelled 'positive +'\n",
    "        else:\n",
    "            plt.scatter(sample[0], sample[1], s = 120, marker = '+', color = 'blue', linewidths = 2)\n",
    "    plt.xlabel('X0')\n",
    "    plt.ylabel('X1')\n",
    "\n",
    "plotData(X)\n",
    "\n",
    "# Print a possible hyperplane, that is separating the two classes:\n",
    "plt.plot([-2, 6], [6, 0.5], color = 'orange', linestyle = 'dashed');"
   ]
  },
  {
   "cell_type": "markdown",
   "metadata": {},
   "source": [
    "Enumerate() method adds a counter to an iterable and returns it in a form of enumerate object. This enumerate object can then be used directly in for loops or be converted into a list of tuples using list() method."
   ]
  },
  {
   "cell_type": "code",
   "execution_count": 30,
   "metadata": {},
   "outputs": [
    {
     "name": "stdout",
     "output_type": "stream",
     "text": [
      "0 [-2  4]\n",
      "1 [4 1]\n",
      "2 [1 6]\n",
      "3 [2 4]\n",
      "4 [6 2]\n"
     ]
    }
   ],
   "source": [
    "for d, sample in enumerate(X):\n",
    "        print(d, sample)"
   ]
  },
  {
   "cell_type": "markdown",
   "metadata": {
    "colab_type": "text",
    "id": "PLLc9IkjTWZp"
   },
   "source": [
    "We need to include a bias term (-1) in the X array. This will transform the decision boundary so that the sign of the dot product of any data point with the weights vector (represented by ⟨x[i], w⟩ in code commments, below) will determine class membership: "
   ]
  },
  {
   "cell_type": "code",
   "execution_count": 31,
   "metadata": {
    "colab": {},
    "colab_type": "code",
    "id": "lkWD7qCCTWZr"
   },
   "outputs": [],
   "source": [
    "X = np.array([ [-2, 4, -1], [4, 1, -1], [1, 6, -1], [2, 4, -1], [6, 2, -1]])"
   ]
  },
  {
   "cell_type": "code",
   "execution_count": 32,
   "metadata": {},
   "outputs": [
    {
     "name": "stdout",
     "output_type": "stream",
     "text": [
      "[[-2  4 -1]\n",
      " [ 4  1 -1]\n",
      " [ 1  6 -1]\n",
      " [ 2  4 -1]\n",
      " [ 6  2 -1]]\n"
     ]
    }
   ],
   "source": [
    "print(X)"
   ]
  },
  {
   "cell_type": "markdown",
   "metadata": {
    "colab_type": "text",
    "id": "ewi-tssuTWZv"
   },
   "source": [
    "Here is a simple implementation of the stochastic gradient descent algorithm for computing the weights:"
   ]
  },
  {
   "cell_type": "code",
   "execution_count": 37,
   "metadata": {
    "colab": {},
    "colab_type": "code",
    "id": "0WxWmJSmTWZx"
   },
   "outputs": [],
   "source": [
    "def perceptron_sgd(Xt, Yt, eta = 1, epochs = 20):\n",
    "    \n",
    "    # Initialize the weight vector for the perceptron with zeros:\n",
    "    wt = np.zeros(len(Xt[0]))\n",
    "    \n",
    "    for t in range(epochs):\n",
    "        \n",
    "        # Iterate over each sample in the data set:\n",
    "        for i, x in enumerate(Xt):\n",
    "            \n",
    "            # Test for misclassification: y * ⟨x[i], w⟩ <= 0:\n",
    "            if (np.dot(Xt[i], wt) * Yt[i]) <= 0:\n",
    "                \n",
    "                # Update weights:\n",
    "                wt = wt + eta * Xt[i] * Yt[i]\n",
    "                print(t, Xt[i], Yt[i], wt)\n",
    "\n",
    "    return wt"
   ]
  },
  {
   "cell_type": "markdown",
   "metadata": {
    "colab_type": "text",
    "id": "De9ymWyITWZ0"
   },
   "source": [
    "Compute the weights using default learning rate (eta = 1) and number of epochs = 10:"
   ]
  },
  {
   "cell_type": "code",
   "execution_count": 38,
   "metadata": {
    "colab": {},
    "colab_type": "code",
    "id": "30BCHSMrTWZ1",
    "outputId": "b8cc7a2b-6d7f-4047-ef31-ac8f7790f45d"
   },
   "outputs": [
    {
     "name": "stdout",
     "output_type": "stream",
     "text": [
      "0 [-2  4 -1] -1 [ 2. -4.  1.]\n",
      "0 [ 4  1 -1] -1 [-2. -5.  2.]\n",
      "0 [ 1  6 -1] 1 [-1.  1.  1.]\n",
      "0 [ 6  2 -1] 1 [5. 3. 0.]\n",
      "1 [-2  4 -1] -1 [ 7. -1.  1.]\n",
      "1 [ 4  1 -1] -1 [ 3. -2.  2.]\n",
      "1 [ 1  6 -1] 1 [4. 4. 1.]\n",
      "2 [-2  4 -1] -1 [6. 0. 2.]\n",
      "2 [ 4  1 -1] -1 [ 2. -1.  3.]\n",
      "2 [ 1  6 -1] 1 [3. 5. 2.]\n",
      "3 [-2  4 -1] -1 [5. 1. 3.]\n",
      "3 [ 4  1 -1] -1 [1. 0. 4.]\n",
      "3 [ 1  6 -1] 1 [2. 6. 3.]\n",
      "4 [-2  4 -1] -1 [4. 2. 4.]\n",
      "4 [ 4  1 -1] -1 [0. 1. 5.]\n",
      "4 [ 2  4 -1] 1 [2. 5. 4.]\n",
      "5 [-2  4 -1] -1 [4. 1. 5.]\n",
      "5 [ 4  1 -1] -1 [0. 0. 6.]\n",
      "5 [ 1  6 -1] 1 [1. 6. 5.]\n",
      "6 [-2  4 -1] -1 [3. 2. 6.]\n",
      "6 [ 4  1 -1] -1 [-1.  1.  7.]\n",
      "6 [ 1  6 -1] 1 [0. 7. 6.]\n",
      "7 [-2  4 -1] -1 [2. 3. 7.]\n",
      "7 [ 4  1 -1] -1 [-2.  2.  8.]\n",
      "7 [ 2  4 -1] 1 [0. 6. 7.]\n",
      "8 [-2  4 -1] -1 [2. 2. 8.]\n",
      "8 [ 4  1 -1] -1 [-2.  1.  9.]\n",
      "8 [ 1  6 -1] 1 [-1.  7.  8.]\n",
      "8 [ 6  2 -1] 1 [5. 9. 7.]\n",
      "9 [-2  4 -1] -1 [7. 5. 8.]\n",
      "9 [ 4  1 -1] -1 [3. 4. 9.]\n",
      "[3. 4. 9.]\n"
     ]
    }
   ],
   "source": [
    "w = perceptron_sgd(X, y, epochs = 10)\n",
    "print(w)"
   ]
  },
  {
   "cell_type": "code",
   "execution_count": null,
   "metadata": {},
   "outputs": [],
   "source": []
  },
  {
   "cell_type": "markdown",
   "metadata": {
    "colab_type": "text",
    "id": "uU_jUESfTWZ5"
   },
   "source": [
    "Did it work? Let's check the decision boundary (hyperplane) and try some predictions:"
   ]
  },
  {
   "cell_type": "code",
   "execution_count": 39,
   "metadata": {
    "colab": {},
    "colab_type": "code",
    "id": "qZZ3Fk9GTWZ5",
    "outputId": "12a89f55-9cfa-4274-84bd-260d99ec85c7"
   },
   "outputs": [
    {
     "data": {
      "text/plain": [
       "<matplotlib.collections.PathCollection at 0x7fa1b2060400>"
      ]
     },
     "execution_count": 39,
     "metadata": {},
     "output_type": "execute_result"
    },
    {
     "data": {
      "image/png": "[encoded data removed]",
      "text/plain": [
       "<Figure size 432x288 with 1 Axes>"
      ]
     },
     "metadata": {
      "needs_background": "light"
     },
     "output_type": "display_data"
    }
   ],
   "source": [
    "def plotHyperplane(wt):\n",
    "    \n",
    "    xx = np.linspace(-2,6)\n",
    "    yy = (-wt[0]*xx + wt[2])/wt[1]\n",
    "    plt.plot(xx, yy, color='orange')\n",
    "    \n",
    "plotData(X)\n",
    "plotHyperplane(w)\n",
    "\n",
    "# Test samples:\n",
    "plt.scatter(2, 2, s = 120, marker = '_', linewidths = 2, color = 'red')\n",
    "plt.scatter(4, 3, s = 120, marker = '+', linewidths = 2, color = 'red')    "
   ]
  },
  {
   "cell_type": "markdown",
   "metadata": {
    "colab_type": "text",
    "id": "2lc4gcnUTWZ8"
   },
   "source": [
    "So far, all of the negatively labelled points are misclassified! \n",
    "\n",
    "Let's a look at how the model training actually proceeds. The error at each epoch is calculated using a hinge-loss function:"
   ]
  },
  {
   "cell_type": "code",
   "execution_count": 48,
   "metadata": {
    "colab": {},
    "colab_type": "code",
    "id": "is2cfNpSTWZ8",
    "outputId": "fd70bdf6-4ab5-4d6a-d93e-832f241a3cdc"
   },
   "outputs": [
    {
     "name": "stdout",
     "output_type": "stream",
     "text": [
      "0 [ 2. -4.  1.]\n",
      "0 [-2. -5.  2.]\n",
      "0 [-1.  1.  1.]\n",
      "0 [5. 3. 0.]\n",
      "42.0\n",
      "1 [ 7. -1.  1.]\n",
      "1 [ 3. -2.  2.]\n",
      "1 [4. 4. 1.]\n",
      "39.0\n",
      "2 [6. 0. 2.]\n",
      "2 [ 2. -1.  3.]\n",
      "2 [3. 5. 2.]\n",
      "36.0\n",
      "3 [5. 1. 3.]\n",
      "3 [1. 0. 4.]\n",
      "3 [2. 6. 3.]\n",
      "33.0\n",
      "4 [4. 2. 4.]\n",
      "4 [0. 1. 5.]\n",
      "4 [2. 5. 4.]\n",
      "32.0\n",
      "5 [4. 1. 5.]\n",
      "5 [0. 0. 6.]\n",
      "5 [1. 6. 5.]\n",
      "30.0\n",
      "6 [3. 2. 6.]\n",
      "6 [-1.  1.  7.]\n",
      "6 [0. 7. 6.]\n",
      "27.0\n",
      "7 [2. 3. 7.]\n",
      "7 [-2.  2.  8.]\n",
      "7 [0. 6. 7.]\n",
      "30.0\n",
      "8 [2. 2. 8.]\n",
      "8 [-2.  1.  9.]\n",
      "8 [-1.  7.  8.]\n",
      "8 [5. 9. 7.]\n",
      "24.0\n",
      "9 [7. 5. 8.]\n",
      "9 [3. 4. 9.]\n",
      "44.0\n",
      "[3. 4. 9.]\n"
     ]
    },
    {
     "data": {
      "image/png": "[encoded data removed]",
      "text/plain": [
       "<Figure size 432x288 with 1 Axes>"
      ]
     },
     "metadata": {
      "needs_background": "light"
     },
     "output_type": "display_data"
    }
   ],
   "source": [
    "def perceptron_sgd_plot(Xt, Yt, eta = 1, epochs = 10):\n",
    "\n",
    "    wt = np.zeros(len(Xt[0]))\n",
    "    errors = []\n",
    "\n",
    "    for t in range(epochs):\n",
    "        total_error = 0\n",
    "        for i, x in enumerate(Xt):\n",
    "            if (np.dot(Xt[i], wt) * Yt[i]) <= 0:\n",
    "                total_error += (np.dot(Xt[i], wt) * Yt[i])\n",
    "                wt += eta * Xt[i] * Yt[i]\n",
    "                print(t, wt)\n",
    "        errors.append(total_error * (-1))\n",
    "        print(errors[t])\n",
    "        \n",
    "    plt.plot(errors)\n",
    "    plt.xlabel('Epoch')\n",
    "    plt.ylabel('Total Loss')\n",
    "    \n",
    "    return wt\n",
    "\n",
    "print(perceptron_sgd_plot(X, y))"
   ]
  },
  {
   "cell_type": "markdown",
   "metadata": {
    "colab_type": "text",
    "id": "GN1ZNWZHTWZ_"
   },
   "source": [
    "So, 10 epochs clearly wasn't enough for the SGD algorithm to converge. \n",
    "\n",
    "Try a increasing `epochs` until the error goes to zero, then replot the test data and decision boundary:"
   ]
  },
  {
   "cell_type": "code",
   "execution_count": 49,
   "metadata": {
    "colab": {},
    "colab_type": "code",
    "id": "57b0w2g9TWaA",
    "outputId": "9bc9504a-ec41-473e-f543-8b6d758ade0f"
   },
   "outputs": [
    {
     "name": "stdout",
     "output_type": "stream",
     "text": [
      "0 [ 2. -4.  1.]\n",
      "0 [-2. -5.  2.]\n",
      "0 [-1.  1.  1.]\n",
      "0 [5. 3. 0.]\n",
      "42.0\n",
      "1 [ 7. -1.  1.]\n",
      "1 [ 3. -2.  2.]\n",
      "1 [4. 4. 1.]\n",
      "39.0\n",
      "2 [6. 0. 2.]\n",
      "2 [ 2. -1.  3.]\n",
      "2 [3. 5. 2.]\n",
      "36.0\n",
      "3 [5. 1. 3.]\n",
      "3 [1. 0. 4.]\n",
      "3 [2. 6. 3.]\n",
      "33.0\n",
      "4 [4. 2. 4.]\n",
      "4 [0. 1. 5.]\n",
      "4 [2. 5. 4.]\n",
      "32.0\n",
      "5 [4. 1. 5.]\n",
      "5 [0. 0. 6.]\n",
      "5 [1. 6. 5.]\n",
      "30.0\n",
      "6 [3. 2. 6.]\n",
      "6 [-1.  1.  7.]\n",
      "6 [0. 7. 6.]\n",
      "27.0\n",
      "7 [2. 3. 7.]\n",
      "7 [-2.  2.  8.]\n",
      "7 [0. 6. 7.]\n",
      "30.0\n",
      "8 [2. 2. 8.]\n",
      "8 [-2.  1.  9.]\n",
      "8 [-1.  7.  8.]\n",
      "8 [5. 9. 7.]\n",
      "24.0\n",
      "9 [7. 5. 8.]\n",
      "9 [3. 4. 9.]\n",
      "44.0\n",
      "10 [ 5.  0. 10.]\n",
      "10 [ 1. -1. 11.]\n",
      "10 [ 2.  5. 10.]\n",
      "27.0\n",
      "11 [ 4.  1. 11.]\n",
      "11 [ 0.  0. 12.]\n",
      "11 [ 1.  6. 11.]\n",
      "24.0\n",
      "12 [ 3.  2. 12.]\n",
      "12 [-1.  1. 13.]\n",
      "12 [ 0.  7. 12.]\n",
      "21.0\n",
      "13 [ 2.  3. 13.]\n",
      "16.0\n",
      "0\n",
      "0\n",
      "0\n",
      "0\n",
      "0\n",
      "0\n",
      "0\n",
      "0\n",
      "0\n",
      "0\n",
      "0\n",
      "0\n",
      "0\n",
      "0\n",
      "0\n",
      "0\n",
      "[ 2.  3. 13.]\n"
     ]
    },
    {
     "data": {
      "image/png": "[encoded data removed]",
      "text/plain": [
       "<Figure size 432x288 with 1 Axes>"
      ]
     },
     "metadata": {
      "needs_background": "light"
     },
     "output_type": "display_data"
    }
   ],
   "source": [
    "#ANSWER\n",
    "print(perceptron_sgd_plot(X, y, epochs = 30))"
   ]
  },
  {
   "cell_type": "code",
   "execution_count": 17,
   "metadata": {
    "colab": {},
    "colab_type": "code",
    "id": "vDG_-Q3WTWaD",
    "outputId": "0d6b7b46-b876-48d7-a2f2-6fe648407d27"
   },
   "outputs": [
    {
     "name": "stdout",
     "output_type": "stream",
     "text": [
      "[ 2.  3. 13.]\n"
     ]
    },
    {
     "data": {
      "text/plain": [
       "<matplotlib.collections.PathCollection at 0x7fa1b1eb42b0>"
      ]
     },
     "execution_count": 17,
     "metadata": {},
     "output_type": "execute_result"
    },
    {
     "data": {
      "image/png": "[encoded data removed]",
      "text/plain": [
       "<Figure size 432x288 with 1 Axes>"
      ]
     },
     "metadata": {
      "needs_background": "light"
     },
     "output_type": "display_data"
    }
   ],
   "source": [
    "#ANSWER\n",
    "plotData(X)\n",
    "w = perceptron_sgd(X, y, epochs = 15)\n",
    "print(w)\n",
    "plotHyperplane(w)\n",
    "\n",
    "# Test samples:\n",
    "plt.scatter(2, 2, s = 120, marker = '_', linewidths = 2, color = 'red')\n",
    "plt.scatter(4, 3, s = 120, marker = '+', linewidths = 2, color = 'red')   "
   ]
  },
  {
   "cell_type": "markdown",
   "metadata": {
    "colab_type": "text",
    "id": "qdndMll3TWaG"
   },
   "source": [
    "Show how to manually compute class membership for a new data point Xi = [3.5, 3.3] using just the weights determined above:"
   ]
  },
  {
   "cell_type": "code",
   "execution_count": 18,
   "metadata": {
    "colab": {},
    "colab_type": "code",
    "id": "nZbMq8UlTWaG",
    "outputId": "250449ab-ba6e-4610-baa5-b9475bdcf5f3"
   },
   "outputs": [
    {
     "name": "stdout",
     "output_type": "stream",
     "text": [
      "class \"+\" predicted\n"
     ]
    }
   ],
   "source": [
    "#ANSWER\n",
    "def classType(Xi, wt):\n",
    "    Xi.append(-1)\n",
    "    test = np.dot(Xi, wt)\n",
    "    if (test) > 0:\n",
    "        print('class \"+\" predicted')\n",
    "    elif (test) < 0:\n",
    "        print('class \"-\" predicted')\n",
    "    else:\n",
    "        print('edge case: class \"+\" predicted')\n",
    "        \n",
    "Xi = [3.5, 3.3]\n",
    "classType(Xi, w)"
   ]
  },
  {
   "cell_type": "code",
   "execution_count": 19,
   "metadata": {
    "colab": {},
    "colab_type": "code",
    "id": "VL0XrVe3TWaK",
    "outputId": "b98dad9d-db88-4ba7-f77a-f519f486d9c3"
   },
   "outputs": [
    {
     "name": "stdout",
     "output_type": "stream",
     "text": [
      "[-2  4 -1] -5.0\n",
      "[ 4  1 -1] -2.0\n",
      "[ 1  6 -1] 7.0\n",
      "[ 2  4 -1] 3.0\n",
      "[ 6  2 -1] 5.0\n"
     ]
    }
   ],
   "source": [
    "# TEST: make sure the training data get correctly classified:\n",
    "for i, x in enumerate(X):\n",
    "    print(X[i], np.dot(X[i], w))"
   ]
  },
  {
   "cell_type": "markdown",
   "metadata": {
    "colab_type": "text",
    "id": "h4zIwWMvTWaN"
   },
   "source": [
    "## === End ==="
   ]
  },
  {
   "cell_type": "markdown",
   "metadata": {
    "colab_type": "text",
    "id": "RERADKgNFq9T"
   },
   "source": [
    "\n",
    "\n",
    "---\n",
    "\n",
    "\n",
    "\n",
    "---\n",
    "\n",
    "\n",
    "\n",
    "> > > > > > > > > © 2021 Institute of Data\n",
    "\n",
    "\n",
    "---\n",
    "\n",
    "\n",
    "\n",
    "---\n",
    "\n",
    "\n",
    "\n"
   ]
  }
 ],
 "metadata": {
  "colab": {
   "collapsed_sections": [],
   "name": "DSIA Lab 5.2 - answers.ipynb",
   "provenance": []
  },
  "kernelspec": {
   "display_name": "Python 3",
   "language": "python",
   "name": "python3"
  },
  "language_info": {
   "codemirror_mode": {
    "name": "ipython",
    "version": 3
   },
   "file_extension": ".py",
   "mimetype": "text/x-python",
   "name": "python",
   "nbconvert_exporter": "python",
   "pygments_lexer": "ipython3",
   "version": "3.8.5"
  },
  "varInspector": {
   "cols": {
    "lenName": 16,
    "lenType": 16,
    "lenVar": 40
   },
   "kernels_config": {
    "python": {
     "delete_cmd_postfix": "",
     "delete_cmd_prefix": "del ",
     "library": "var_list.py",
     "varRefreshCmd": "print(var_dic_list())"
    },
    "r": {
     "delete_cmd_postfix": ") ",
     "delete_cmd_prefix": "rm(",
     "library": "var_list.r",
     "varRefreshCmd": "cat(var_dic_list()) "
    }
   },
   "types_to_exclude": [
    "module",
    "function",
    "builtin_function_or_method",
    "instance",
    "_Feature"
   ],
   "window_display": false
  }
 },
 "nbformat": 4,
 "nbformat_minor": 1
}
