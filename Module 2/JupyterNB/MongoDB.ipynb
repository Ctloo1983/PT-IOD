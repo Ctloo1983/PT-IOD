{
 "cells": [
  {
   "cell_type": "markdown",
   "metadata": {},
   "source": [
    "### MongoDB in Python"
   ]
  },
  {
   "cell_type": "code",
   "execution_count": null,
   "metadata": {},
   "outputs": [],
   "source": [
    "#!pip install pymongo"
   ]
  },
  {
   "cell_type": "code",
   "execution_count": 2,
   "metadata": {},
   "outputs": [],
   "source": [
    "# import mongo liberary\n",
    "import pymongo"
   ]
  },
  {
   "cell_type": "code",
   "execution_count": 3,
   "metadata": {},
   "outputs": [],
   "source": [
    "#create a database\n",
    "conn = pymongo.MongoClient(\"mongodb://localhost:27017/\")\n",
    "mydb = conn[\"mytest\"] #database name"
   ]
  },
  {
   "cell_type": "code",
   "execution_count": 8,
   "metadata": {},
   "outputs": [],
   "source": [
    "#print(dir(mydb))"
   ]
  },
  {
   "cell_type": "code",
   "execution_count": 9,
   "metadata": {},
   "outputs": [
    {
     "data": {
      "text/plain": [
       "'mytest'"
      ]
     },
     "execution_count": 9,
     "metadata": {},
     "output_type": "execute_result"
    }
   ],
   "source": [
    "#To see the name of DB\n",
    "mydb.name"
   ]
  },
  {
   "cell_type": "markdown",
   "metadata": {},
   "source": [
    "### A collection in MongoDB is the same as a table in SQL databases."
   ]
  },
  {
   "cell_type": "code",
   "execution_count": 10,
   "metadata": {},
   "outputs": [
    {
     "data": {
      "text/plain": [
       "'customers'"
      ]
     },
     "execution_count": 10,
     "metadata": {},
     "output_type": "execute_result"
    }
   ],
   "source": [
    "#creat a collection\n",
    "mycol = mydb[\"customers\"]\n",
    "mycol.name"
   ]
  },
  {
   "cell_type": "code",
   "execution_count": null,
   "metadata": {},
   "outputs": [],
   "source": [
    "type(mycol)"
   ]
  },
  {
   "cell_type": "code",
   "execution_count": 14,
   "metadata": {},
   "outputs": [],
   "source": [
    "#insert record\n",
    "mydict = { \"first_name\": \"ABC\", \"last_name\": \"xyz\" }\n",
    "\n",
    "x = mycol.insert_one(mydict)"
   ]
  },
  {
   "cell_type": "code",
   "execution_count": 15,
   "metadata": {},
   "outputs": [
    {
     "name": "stdout",
     "output_type": "stream",
     "text": [
      "60d46966c10670f9208575d0\n"
     ]
    },
    {
     "data": {
      "text/plain": [
       "pymongo.results.InsertOneResult"
      ]
     },
     "execution_count": 15,
     "metadata": {},
     "output_type": "execute_result"
    }
   ],
   "source": [
    "print(x.inserted_id)\n",
    "type(x)"
   ]
  },
  {
   "cell_type": "code",
   "execution_count": 16,
   "metadata": {},
   "outputs": [],
   "source": [
    "#inserting multiple records\n",
    "\n",
    "mylist = [\n",
    "  { \"first_name\": \"Amy\", \"last_name\": \"ABC\"},\n",
    "  { \"first_name\": \"Karen\", \"last_name\": \"Lee\"},\n",
    "  { \"first_name\": \"Irfan\", \"last_name\": \"Ilyas\"},\n",
    "  { \"name\": \"Sandy\", \"address\": \"Ocean blvd 2\"}\n",
    "]\n",
    "\n",
    "x = mycol.insert_many(mylist)"
   ]
  },
  {
   "cell_type": "code",
   "execution_count": 17,
   "metadata": {},
   "outputs": [
    {
     "name": "stdout",
     "output_type": "stream",
     "text": [
      "[ObjectId('60d46967c10670f9208575d1'), ObjectId('60d46967c10670f9208575d2'), ObjectId('60d46967c10670f9208575d3'), ObjectId('60d46967c10670f9208575d4')]\n"
     ]
    }
   ],
   "source": [
    "print(x.inserted_ids)"
   ]
  },
  {
   "cell_type": "markdown",
   "metadata": {},
   "source": [
    "\n",
    "#### In MongoDB we use the find and findOne methods to find data in a collection.\n",
    "\n",
    "Just like the SELECT statement is used to find data in a table in a MySQL database."
   ]
  },
  {
   "cell_type": "code",
   "execution_count": 19,
   "metadata": {},
   "outputs": [
    {
     "name": "stdout",
     "output_type": "stream",
     "text": [
      "{'_id': ObjectId('60d468a7c10670f9208575cb'), 'first_name': 'ABC', 'last_name': 'xyz'}\n"
     ]
    }
   ],
   "source": [
    "#displaying single record\n",
    "x = mycol.find_one()\n",
    "\n",
    "print(x)"
   ]
  },
  {
   "cell_type": "code",
   "execution_count": 20,
   "metadata": {},
   "outputs": [
    {
     "name": "stdout",
     "output_type": "stream",
     "text": [
      "{'_id': ObjectId('60d468a7c10670f9208575cb'), 'first_name': 'ABC', 'last_name': 'xyz'}\n",
      "{'_id': ObjectId('60d46902c10670f9208575cc'), 'first_name': 'Amy', 'last_name': 'ABC'}\n",
      "{'_id': ObjectId('60d46902c10670f9208575cd'), 'first_name': 'Karen', 'last_name': 'Lee'}\n",
      "{'_id': ObjectId('60d46902c10670f9208575ce'), 'first_name': 'Irfan', 'last_name': 'Ilyas'}\n",
      "{'_id': ObjectId('60d46902c10670f9208575cf'), 'name': 'Sandy', 'address': 'Ocean blvd 2'}\n",
      "{'_id': ObjectId('60d46966c10670f9208575d0'), 'first_name': 'ABC', 'last_name': 'xyz'}\n",
      "{'_id': ObjectId('60d46967c10670f9208575d1'), 'first_name': 'Amy', 'last_name': 'ABC'}\n",
      "{'_id': ObjectId('60d46967c10670f9208575d2'), 'first_name': 'Karen', 'last_name': 'Lee'}\n",
      "{'_id': ObjectId('60d46967c10670f9208575d3'), 'first_name': 'Irfan', 'last_name': 'Ilyas'}\n",
      "{'_id': ObjectId('60d46967c10670f9208575d4'), 'name': 'Sandy', 'address': 'Ocean blvd 2'}\n"
     ]
    }
   ],
   "source": [
    "#displaying Multipe record\n",
    "reco=mycol.find()\n",
    "#for x in mycol.find():\n",
    "for x in reco:\n",
    "    print(x)"
   ]
  },
  {
   "cell_type": "code",
   "execution_count": null,
   "metadata": {},
   "outputs": [],
   "source": [
    "#Query\n",
    "\n",
    "myquery = { \"first_name\": \"Irfan\" }\n",
    "\n",
    "mydoc = mycol.find(myquery)\n",
    "\n",
    "for x in mydoc:\n",
    "    print(x)"
   ]
  },
  {
   "cell_type": "code",
   "execution_count": null,
   "metadata": {},
   "outputs": [],
   "source": [
    "#delete a document\n",
    "mycol.delete_one(myquery)"
   ]
  },
  {
   "cell_type": "code",
   "execution_count": null,
   "metadata": {},
   "outputs": [],
   "source": [
    "#print nothing as record is deleted\n",
    "for x in mydoc:\n",
    "    print(x)"
   ]
  },
  {
   "cell_type": "markdown",
   "metadata": {},
   "source": [
    "##### https://www.w3schools.com/python/python_mongodb_getstarted.asp"
   ]
  },
  {
   "cell_type": "code",
   "execution_count": null,
   "metadata": {},
   "outputs": [],
   "source": []
  }
 ],
 "metadata": {
  "kernelspec": {
   "display_name": "Python 3",
   "language": "python",
   "name": "python3"
  },
  "language_info": {
   "codemirror_mode": {
    "name": "ipython",
    "version": 3
   },
   "file_extension": ".py",
   "mimetype": "text/x-python",
   "name": "python",
   "nbconvert_exporter": "python",
   "pygments_lexer": "ipython3",
   "version": "3.8.3"
  }
 },
 "nbformat": 4,
 "nbformat_minor": 4
}
