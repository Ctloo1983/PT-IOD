{
 "cells": [
  {
   "cell_type": "markdown",
   "metadata": {
    "colab_type": "text",
    "id": "MtJ1pm6CP5XF"
   },
   "source": [
    "<div>\n",
    "<img src=https://www.institutedata.com/wp-content/uploads/2019/10/iod_h_tp_primary_c.svg width=\"300\">\n",
    "</div>"
   ]
  },
  {
   "cell_type": "markdown",
   "metadata": {
    "colab_type": "text",
    "id": "eVUunvJoP5XI"
   },
   "source": [
    "# Lab 2.2.3 \n",
    "# *Mining Social Media on Reddit*"
   ]
  },
  {
   "cell_type": "markdown",
   "metadata": {
    "colab_type": "text",
    "id": "-kiLThkbP5XK"
   },
   "source": [
    "## The Reddit API and the PRAW Package"
   ]
  },
  {
   "cell_type": "markdown",
   "metadata": {
    "colab_type": "text",
    "id": "98HzUiRNP5XN"
   },
   "source": [
    "The Reddit API is rich and complex, with many endpoints (https://www.reddit.com/dev/api/). It includes methods for navigating its collections, which include various kinds of media as well as comments. Fortunately, the Python library PRAW reduces much of this complexity.\n",
    "\n",
    "Reddit requires developers to create and authenticate an app before they can use the API, but the process is much less onerus than some, and does not have waiting period for approval of new developers (as of 18 August 2018)."
   ]
  },
  {
   "cell_type": "markdown",
   "metadata": {
    "colab_type": "text",
    "id": "wx3UQZPWP5XP"
   },
   "source": [
    "### 1. Create a Reddit App\n",
    "\n",
    "Go to https://www.reddit.com/prefs/apps and click \"create an app\".\n",
    "\n",
    "Enter the following in the form:\n",
    "\n",
    "- a name for your app\n",
    "- select \"script\" radio button\n",
    "- a description\n",
    "- a redirect URI\n",
    "\n",
    "(Nb. For pulling data into a data science experiment, a local port can be used for the Redirect URI; try http://127.0.0.1:1410)\n",
    "\n",
    "- click \"create app\"\n",
    "- from the form that displays, copy the following to a local text file (or to this notebook):\n",
    "\n",
    "  - name (the name you gave to your app)\n",
    "  - redirect URI\n",
    "  - personal use script (this is your OAuth 2 Client ID)\n",
    "  - secret (this is your OAuth 2 Secret)"
   ]
  },
  {
   "cell_type": "markdown",
   "metadata": {
    "colab_type": "text",
    "id": "oNdLwIPIP5XR"
   },
   "source": [
    "### 2. Register for API Access\n",
    "\n",
    "- follow the link at https://www.reddit.com/wiki/api and read the terms of use for Reddit API access \n",
    "- fill in the form fields at the bottom \n",
    "  - make sure to enter your new OAuth Client ID where indicated\n",
    "  - your use case could be something like \"Training in API usage for data science projects\"\n",
    "  - your platform could be something like \"Jupyter Notebooks / Python\"\n",
    "  \n",
    "- click \"SUBMIT\"\n",
    " \n",
    "- when asked for User-Agent, enter something that fits this pattern:\n",
    "  `your_os-python:your_reddit_appname:v1.0 (by /u/your_reddit_username)`"
   ]
  },
  {
   "cell_type": "markdown",
   "metadata": {
    "colab_type": "text",
    "id": "N22ya_vtP5XT"
   },
   "source": [
    "### 3. Load Python Libraries"
   ]
  },
  {
   "cell_type": "code",
   "execution_count": 0,
   "metadata": {
    "colab": {},
    "colab_type": "code",
    "id": "okips5jtP5XV"
   },
   "outputs": [],
   "source": [
    "import praw\n",
    "import requests\n",
    "import json\n",
    "import pprint\n",
    "from datetime import datetime, date, time"
   ]
  },
  {
   "cell_type": "markdown",
   "metadata": {
    "colab_type": "text",
    "id": "mAMBDYOOP5Xc"
   },
   "source": [
    "### 4. Authenticate from your Python script"
   ]
  },
  {
   "cell_type": "markdown",
   "metadata": {
    "colab_type": "text",
    "id": "b5fMVZ_DP5Xd"
   },
   "source": [
    "You could assign your authentication details explicitly, as follows:"
   ]
  },
  {
   "cell_type": "code",
   "execution_count": 0,
   "metadata": {
    "colab": {},
    "colab_type": "code",
    "id": "RARMbQ0-P5Xf"
   },
   "outputs": [],
   "source": [
    "my_user_agent = ''   # your user Agent string goes in here\n",
    "my_client_id = ''   # your Client ID string goes in here\n",
    "my_client_secret = ''   # your Secret string goes in here"
   ]
  },
  {
   "cell_type": "markdown",
   "metadata": {
    "colab_type": "text",
    "id": "396vbxD6P5Xl"
   },
   "source": [
    "A better way would be to store these details externally, so they are not displayed in the notebook:\n",
    "\n",
    "- create a file called \"auth_reddit.json\" in your \"notebooks\" directory, and save your credentials there in JSON format:\n",
    "\n",
    "`{   \"my_client_id\": \"your Client ID string goes in here\",` <br>\n",
    "&nbsp;&nbsp;&nbsp;&nbsp;&nbsp;&nbsp;&nbsp;&nbsp;` \"my_client_secret\": \"your Secret string goes in here\",` <br>\n",
    "&nbsp;&nbsp;&nbsp;&nbsp;&nbsp;&nbsp;&nbsp;&nbsp;`\"my_user_agent\": \"your user Agent string goes in here\"` <br>\n",
    "`}`\n",
    "\n",
    "Use the following code to load the credentials:  "
   ]
  },
  {
   "cell_type": "code",
   "execution_count": 0,
   "metadata": {
    "colab": {},
    "colab_type": "code",
    "id": "KtkU50P7P5Xn",
    "outputId": "18502589-7a0b-46f1-fd31-89dc88965854"
   },
   "outputs": [
    {
     "data": {
      "text/plain": [
       "'C:\\\\Users\\\\allen\\\\notebooks\\\\BCD DSAI'"
      ]
     },
     "execution_count": 12,
     "metadata": {
      "tags": []
     },
     "output_type": "execute_result"
    }
   ],
   "source": [
    "pwd()  # make sure your working directory is where the file is"
   ]
  },
  {
   "cell_type": "code",
   "execution_count": 0,
   "metadata": {
    "colab": {},
    "colab_type": "code",
    "id": "oHTwqfvvP5Xx"
   },
   "outputs": [],
   "source": [
    "path_auth = 'auth_reddit.json'\n",
    "auth = json.loads(open(path_auth).read())\n",
    "\n",
    "# For debugging only:\n",
    "# pp = pprint.PrettyPrinter(indent=4)\n",
    "#pp.pprint(auth)\n",
    "\n",
    "my_user_agent = auth['my_user_agent']\n",
    "my_client_id = auth['my_client_id']\n",
    "my_client_secret = auth['my_client_secret']"
   ]
  },
  {
   "cell_type": "markdown",
   "metadata": {
    "colab_type": "text",
    "id": "nTnIrybxP5Xz"
   },
   "source": [
    "Security considerations: \n",
    "- this method only keeps your credentials invisible as long as nobody else gets access to this notebook file \n",
    "- if you wanted another user to have access to the executable notebook without divulging your credentials you should set up an OAuth 2.0 workflow to let them obtain and apply their own API tokens when using your app\n",
    "- if you just want to share your analyses, you could use a separate script (which you don't share) to fetch the data and save it locally, then use a second notebook (with no API access) to load and analyse the locally stored data"
   ]
  },
  {
   "cell_type": "markdown",
   "metadata": {
    "colab_type": "text",
    "id": "upgA0mzrP5Xz"
   },
   "source": [
    "### 5. Exploring the API"
   ]
  },
  {
   "cell_type": "markdown",
   "metadata": {
    "colab_type": "text",
    "id": "DItfqhBoP5X0"
   },
   "source": [
    "Here is how to connect to Reddit with read-only access:"
   ]
  },
  {
   "cell_type": "code",
   "execution_count": 0,
   "metadata": {
    "colab": {},
    "colab_type": "code",
    "id": "O35sEDJJP5X1",
    "outputId": "7eb21579-8c18-4ec5-de46-08fe5f279009"
   },
   "outputs": [
    {
     "name": "stdout",
     "output_type": "stream",
     "text": [
      "Read-only = True\n"
     ]
    }
   ],
   "source": [
    "reddit = praw.Reddit(client_id = my_client_id, \n",
    "                     client_secret = my_client_secret, \n",
    "                     user_agent = my_user_agent)\n",
    "\n",
    "print('Read-only = ' + str(reddit.read_only))  # Output: True"
   ]
  },
  {
   "cell_type": "markdown",
   "metadata": {
    "colab_type": "text",
    "id": "0i84iF99P5X5"
   },
   "source": [
    "In the next cell, put the cursor after the '.' and hit the [tab] key to see the available members and methods in the response object:"
   ]
  },
  {
   "cell_type": "code",
   "execution_count": 0,
   "metadata": {
    "colab": {},
    "colab_type": "code",
    "id": "bVi54IH7P5X5"
   },
   "outputs": [],
   "source": [
    "reddit."
   ]
  },
  {
   "cell_type": "markdown",
   "metadata": {
    "colab_type": "text",
    "id": "80IK0dE6P5X7"
   },
   "source": [
    "Consult the PRAW and Reddit API documentation. Print a few of the response members below:"
   ]
  },
  {
   "cell_type": "code",
   "execution_count": 0,
   "metadata": {
    "colab": {},
    "colab_type": "code",
    "id": "TjDVHQy7P5X7"
   },
   "outputs": [],
   "source": []
  },
  {
   "cell_type": "markdown",
   "metadata": {
    "colab_type": "text",
    "id": "0quBGKHrP5X9"
   },
   "source": [
    "Content in Reddit is grouped by topics called \"subreddits\". Content, called \"submissions\", is fetched by calling the `subreddit` method of the connection object (which is our `reddit` variable) with an argument that matches an actual topic. \n",
    "\n",
    "We also need to append a further method call to a \"subinstance\", such as one of the following:\n",
    "\n",
    "- controversial\n",
    "- gilded\n",
    "- hot\n",
    "- new\n",
    "- rising\n",
    "- top\n",
    "\n",
    "One of the submission objects members is `title`. Fetch and print 10 submission titles from the 'learnpython' subreddit using one of the subinstances above:"
   ]
  },
  {
   "cell_type": "code",
   "execution_count": 0,
   "metadata": {
    "colab": {},
    "colab_type": "code",
    "id": "zciv6cSNP5X9",
    "outputId": "335cd9cd-7db0-49ef-a40f-50c87943beba"
   },
   "outputs": [
    {
     "name": "stdout",
     "output_type": "stream",
     "text": [
      "Ask Anything Monday - Weekly Thread\n",
      "Learn python by contributing to pygame.\n",
      "Newcomer looking for advice on a random two-word sentence generator!\n",
      "What's the best way to parse this string?\n",
      "Two different variables point to the same address (but not always)?!\n",
      "Encoding (Pycharm)\n",
      "Can someone verify if I'm doing loops and ifs correctly?\n",
      "I need a very small help reading a labels file in python for creating tfrecords\n",
      "Matplotlib 'dark_background' style Problem!\n",
      "os path, navigating back one directory?\n"
     ]
    }
   ],
   "source": [
    "for submission in reddit.subreddit('learnpython').hot(limit=10):\n",
    "    print(submission.title)"
   ]
  },
  {
   "cell_type": "markdown",
   "metadata": {
    "colab_type": "text",
    "id": "kClUAtmfP5X_"
   },
   "source": [
    "Now retrieve 10 authors:"
   ]
  },
  {
   "cell_type": "code",
   "execution_count": 0,
   "metadata": {
    "colab": {},
    "colab_type": "code",
    "id": "NJJbYFppP5YA",
    "outputId": "37815d5e-41ee-4f16-873b-c76bc52bbec7"
   },
   "outputs": [
    {
     "name": "stdout",
     "output_type": "stream",
     "text": [
      "AutoModerator\n",
      "illumen\n",
      "TheCourierWatches\n",
      "chroner\n",
      "merc1er\n",
      "Slowfield\n",
      "99problemsallops\n",
      "2RsPeople\n",
      "AACoimbra\n",
      "warnakey\n"
     ]
    }
   ],
   "source": [
    "for submission in reddit.subreddit('learnpython').hot(limit=10):\n",
    "    print(submission.author)"
   ]
  },
  {
   "cell_type": "markdown",
   "metadata": {
    "colab_type": "text",
    "id": "voyL9o67P5YD"
   },
   "source": [
    "Note that we obtained the titles and authors from separate API calls. Can we expect these to correspond to the same submissions? If not, how could we gurantee that they do?"
   ]
  },
  {
   "cell_type": "code",
   "execution_count": 0,
   "metadata": {
    "colab": {},
    "colab_type": "code",
    "id": "c2LTSdo5P5YE",
    "outputId": "b5cde4a9-96f1-4b1d-e2dc-e4525ba50346"
   },
   "outputs": [
    {
     "name": "stdout",
     "output_type": "stream",
     "text": [
      "Author: AutoModerator | Title: Ask Anything Monday - Weekly Thread\n",
      "Author: illumen | Title: Learn python by contributing to pygame.\n",
      "Author: TheCourierWatches | Title: Newcomer looking for advice on a random two-word sentence generator!\n",
      "Author: chroner | Title: What's the best way to parse this string?\n",
      "Author: merc1er | Title: Two different variables point to the same address (but not always)?!\n",
      "Author: Slowfield | Title: Encoding (Pycharm)\n",
      "Author: FetusGod | Title: Getting started with pygame (python 3)\n",
      "Author: 99problemsallops | Title: Can someone verify if I'm doing loops and ifs correctly?\n",
      "Author: 2RsPeople | Title: I need a very small help reading a labels file in python for creating tfrecords\n",
      "Author: AACoimbra | Title: Matplotlib 'dark_background' style Problem!\n"
     ]
    }
   ],
   "source": [
    "#ANSWER:\n",
    "submissions = reddit.subreddit('learnpython').hot(limit=10)\n",
    "for submission in submissions:\n",
    "    print(\"Author: {} | Title: {}\".format(submission.author, submission.title))"
   ]
  },
  {
   "cell_type": "markdown",
   "metadata": {
    "colab_type": "text",
    "id": "1SmnILuUP5YI"
   },
   "source": [
    "Why doesn't the next cell produce output?"
   ]
  },
  {
   "cell_type": "code",
   "execution_count": 0,
   "metadata": {
    "colab": {},
    "colab_type": "code",
    "id": "iuWtNa0VP5YJ"
   },
   "outputs": [],
   "source": [
    "for submission in submissions:\n",
    "    print(submission.comments)"
   ]
  },
  {
   "cell_type": "code",
   "execution_count": 0,
   "metadata": {
    "colab": {},
    "colab_type": "code",
    "id": "30k_ILwpP5YL",
    "outputId": "a191c3a0-8e4c-4093-9c9a-dc561d0b6b06"
   },
   "outputs": [
    {
     "data": {
      "text/plain": [
       "<praw.models.listing.generator.ListingGenerator at 0x1cf1e6b7ac8>"
      ]
     },
     "execution_count": 51,
     "metadata": {
      "tags": []
     },
     "output_type": "execute_result"
    }
   ],
   "source": [
    "#ANSWER:\n",
    "# The API is lazy, and submissions is a generator -- not a data structure:\n",
    "submissions\n",
    "# it must be refreshed in teh same cell that invokes its output."
   ]
  },
  {
   "cell_type": "markdown",
   "metadata": {
    "colab_type": "text",
    "id": "azvexiDQP5YO"
   },
   "source": [
    "Print two comments associated with each of these submissions:"
   ]
  },
  {
   "cell_type": "code",
   "execution_count": 0,
   "metadata": {
    "colab": {},
    "colab_type": "code",
    "id": "nS8skdAfP5YP",
    "outputId": "e6427d89-0f94-4e3c-ce1d-356397e5edae"
   },
   "outputs": [
    {
     "name": "stdout",
     "output_type": "stream",
     "text": [
      "Map, sum and floats/ints?\n",
      "\n",
      "The following code gives the error:\n",
      "\n",
      "'int' object is not iterable\n",
      "\n",
      "I'm not understanding why this shouldn't  work:\n",
      "\n",
      "\n",
      "        def f():\n",
      "            a = 1\n",
      "            b = 2\n",
      "            c = 3\n",
      "\n",
      "            return list(map(sum, a,b,c))\n",
      "\n",
      "\n",
      "\n",
      "Using TKinter, how would you go about having a button be a different color based on the text of an input file (1 or 0)? For example, I'm trying to use it as a GUI that ties into a physical interface I already created.  There's 3 buttons (red,yellow,blue) that all write whether they are pressed \"1\" or not \"0\" to 3 separate text files (red.txt, yellow.txt, blue.txt).  Is it possible to have a Tkinter button be red if the red button is pushed, yellow if the yellow button is pushed, blue if the blue button is pushed, or just black if none of them are? If not is there an easy solution to visualize this like maybe having 3 small squares (r,y,b) that will display or not display depending on the button states?\n",
      "Hi, René here from the pygame project. I'm offering to help anyone who wants to learn python by contributing to an Open Source project. Feel free to drop by into our web chat, read our developer guides, and we can get started.\n",
      "\n",
      "Many simple tasks are easier than exercises in a programming book.\n",
      "\n",
      "The example of a very simple contribution in the Guide is this:\n",
      "\n",
      "    def test_ellipse_does_not_crash(self):\n",
      "        import pygame.draw\n",
      "        surf = pygame.Surface((320, 200))\n",
      "        pygame.draw.ellipse(surf, (255, 0, 0), (10, 10, 25, 20))\n",
      "\n",
      "By contributing this test, you help that the draw.ellipse call does not crash python. A very useful contribution, and pretty simple too.\n",
      "I will join that chat and see how I can help after work today.  Somewhat newer to python.  \n",
      "My sole project on GitHub:   https://github.com/sockheadrps/TwitWords  \n",
      "Hopefully I can make some useful commits. \n",
      "Anyone in the mood to mentor, DM me :D\n",
      "\n",
      "Well first, what code do you already have?\n",
      "\n",
      "Conceptually your problem is simple:\n",
      "\n",
      "    random_word = random.choice(adjective_list) + random.choice(noun_list)\n",
      "\n",
      "You will need a list of adjectives, and a list of nouns. \n",
      "\n",
      "Barring that, you will need a list of words and a way to tell the difference between adjective and noun (maybe some sort of marker or flag with the word).\n",
      "There's different libraries which offer \"random\" functions. There's no such thing as random with computers, though. In any case, what you are looking for is a `random.choice`, which is a function that chooses a random object from a container, like a list or an array. As an example, you could begin by creating two lists, one for adjectives, and one for nouns:\n",
      "\n",
      "    adjectives = ['lazy', 'dumb', 'slow', 'dependent']\n",
      "    nouns = ['person', 'poster', 'learner', 'child']\n",
      "\n",
      "From there, to pick two random words is trivial, but you must import a module called `random` in order to access its functions:\n",
      "\n",
      "    import random\n",
      "    random_adjective = random.choice(adjectives)\n",
      "    random_noun = random.choice(nouns)\n",
      "\n",
      "Now, you have chosen two random words, but what to do with them? You can print them using string formatting such that it forms a sentence:\n",
      "\n",
      "    print(\"The {} {} was saved by the benevolent Python GOD.\".format(random_adjective, random_noun))\n",
      "\n",
      "This will output:\n",
      "\n",
      "    The lazy poster was saved by the benevolent Python GOD.\n",
      "\n",
      "The `.format(*args)` is a string method (so it goes at the end of a string) which replaces the `{}` curly braces with whatever you put in as `*args`. In our case, we used two strings `random_adjective` and `random_noun`, but you can use `int`s, `float`s, and others as well. I hope this has been helpful for you.\n",
      "If you take your string and split it by spaces, you should be able to easily isolate the price\n",
      "\n",
      "`price = my_string.split(' ')[0]`\n",
      "Yeah honestly, I just got up to adjust my thermostat and had that exact thought lol. Funny how that stuff works. Thanks.\n",
      "[https://docs.python.org/3/c-api/long.html#c.PyLong\\_FromLong](https://docs.python.org/3/c-api/long.html#c.PyLong_FromLong)\n",
      "\n",
      ">The current implementation keeps an array of integer objects for all integers between -5 and 256, when you create an int in that range you actually just get back a reference to the existing object. So it should be possible to change the value of 1. I suspect the behaviour of Python in this case is undefined. :-)\n",
      "\n",
      "    >>> a = 256\n",
      "    >>> b = 256\n",
      "    >>> c = 257\n",
      "    >>> d = 257\n",
      "    >>> id(a)\n",
      "    4332671472\n",
      "    >>> id(b)\n",
      "    4332671472\n",
      "    >>> id(c)\n",
      "    4359843152\n",
      "    >>> id(d)\n",
      "    4359843440\n",
      "\n",
      "Note `a is b` is equivalent to `id(a) == id(b)`\n",
      "* https://stackoverflow.com/questions/132988/is-there-a-difference-between-and-is-in-python\n",
      "* https://dbader.org/blog/difference-between-is-and-equals-in-python\n",
      "\n",
      "So, as you are probably well aware, computers only deal in 1's and 0's. It's really hard to know what one series of 1's and 0's is supposed to mean. And, in fact, one stream of 1's and 0's can have more than one meaning. If you had a secret code, you could write (or encode) your message just using 1's and 0's and then you could use that same code to decode those 1's and 0's to make sense out of them. It could be that one code would result in one thing and another code would result in another, probably jibberish thing.\n",
      "\n",
      "Well computer files have a similar thing going on. There are many different encodings for a series of 1's and 0's and some of the encodings will result in something that makes sense, while others will be complete nonsense. I'm pretty sure utf-8 is the default so you don't really have to make sure it is set, but it's a reasonably good practice. \n",
      "Something else you can do to avoid having a ton of if elif statements (nothing wrong with your code though) is use a dictionary:\n",
      "\n",
      "    answer = input()\n",
      "    what_to_do = {\n",
      "        \"no\" : \"Go outside\",\n",
      "        \"yes\" : \"Find an umbrella\",\n",
      "        \"maybe\" : \"Look out the window\"}\n",
      "    print(what_to_do[answer])\n",
      "\n",
      "Doesn't exactly apply to your code, but something you can keep in mind when you learn about dictionaries.\n",
      "\n",
      "My brother (a software engineer), told me a principal about comments that I found helped me a lot when using them throughout my code. \n",
      "\n",
      "You want to explain why you are doing something, not what you are doing. Reason being that people familiar with the language are going to be able to figure out what you are doing anyway - assuming your code is readable (self-documenting). \n",
      "Your program fits the flowchart. Although for the \"Is it raining\" loop, you can type anything other than \"No\" and it'll keep looping. But that's pretty pedantic.\n",
      "That's because you aren't setting the correct attributes to a lighter color, you set the background to black.\n",
      "\n",
      "You need to set the ticks, ticklabels,  spine color, and title color  to a lighter color. Look up how to set those colors and you should get the results you need.\n"
     ]
    }
   ],
   "source": [
    "submissions = reddit.subreddit('learnpython').hot(limit=10)\n",
    "for submission in submissions:\n",
    "    top_level_comments = list(submission.comments)\n",
    "    all_comments = submission.comments.list()[:2]\n",
    "    for comment in all_comments:\n",
    "        print(comment.body)"
   ]
  },
  {
   "cell_type": "markdown",
   "metadata": {
    "colab_type": "text",
    "id": "Mpd_xVbGP5YS"
   },
   "source": [
    "Referring to the API documentation, explore the submissions object and print some interesting data:"
   ]
  },
  {
   "cell_type": "code",
   "execution_count": 0,
   "metadata": {
    "colab": {},
    "colab_type": "code",
    "id": "gJmNGjdGP5YU"
   },
   "outputs": [],
   "source": []
  },
  {
   "cell_type": "markdown",
   "metadata": {
    "colab_type": "text",
    "id": "km8Ujm42P5YW"
   },
   "source": [
    "#### Posting to Reddit"
   ]
  },
  {
   "cell_type": "markdown",
   "metadata": {
    "colab_type": "text",
    "id": "2WNJySAzP5YX"
   },
   "source": [
    "To be able to post to your Reddit account (i.e. contribute submissions), you need to connect to the API with read/write privilege. This requires an *authorised instance*, which is obtained by including your Reddit user name and password in the connection request: "
   ]
  },
  {
   "cell_type": "code",
   "execution_count": 0,
   "metadata": {
    "colab": {},
    "colab_type": "code",
    "id": "leC2dfG2P5YY"
   },
   "outputs": [],
   "source": [
    "reddit = praw.Reddit(client_id='my client id',\n",
    "                     client_secret='my client secret',\n",
    "                     user_agent='my user agent',\n",
    "                     username='my username',\n",
    "                     password='my password')\n",
    "print(reddit.read_only)  # Output: False"
   ]
  },
  {
   "cell_type": "markdown",
   "metadata": {
    "colab_type": "text",
    "id": "GwnCOxWJP5YZ"
   },
   "source": [
    "You could hide these last two credentials by adding them to your JSON file and then reading all five values at once."
   ]
  },
  {
   "cell_type": "code",
   "execution_count": 0,
   "metadata": {
    "colab": {},
    "colab_type": "code",
    "id": "MUvzVglbP5YZ"
   },
   "outputs": [],
   "source": []
  },
  {
   "cell_type": "markdown",
   "metadata": {
    "colab_type": "text",
    "id": "fWOk43cgN71c"
   },
   "source": [
    "\n",
    "\n",
    "---\n",
    "\n",
    "\n",
    "\n",
    "---\n",
    "\n",
    "\n",
    "\n",
    "> > > > > > > > > © 2021 Institute of Data\n",
    "\n",
    "\n",
    "---\n",
    "\n",
    "\n",
    "\n",
    "---\n",
    "\n",
    "\n",
    "\n"
   ]
  }
 ],
 "metadata": {
  "colab": {
   "collapsed_sections": [],
   "name": "DSIA Lab 2.2.3 - ANSWER.ipynb",
   "provenance": []
  },
  "kernelspec": {
   "display_name": "Python 3",
   "language": "python",
   "name": "python3"
  },
  "language_info": {
   "codemirror_mode": {
    "name": "ipython",
    "version": 3
   },
   "file_extension": ".py",
   "mimetype": "text/x-python",
   "name": "python",
   "nbconvert_exporter": "python",
   "pygments_lexer": "ipython3",
   "version": "3.8.5"
  }
 },
 "nbformat": 4,
 "nbformat_minor": 1
}
